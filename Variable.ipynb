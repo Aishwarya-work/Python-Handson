{
 "cells": [
  {
   "cell_type": "code",
   "execution_count": 1,
   "id": "2b5037e5-b98b-4927-99b5-27621f0ded4c",
   "metadata": {},
   "outputs": [],
   "source": [
    "#1.Variable Assignment:\n",
    "x=123 #integer\n",
    "y=3.14 #float\n",
    "z=\"Variable\" #string\n",
    "is_active=True #Boolean"
   ]
  },
  {
   "cell_type": "code",
   "execution_count": 3,
   "id": "63fce748-8757-4ce5-98ce-e783b5f2ef11",
   "metadata": {},
   "outputs": [
    {
     "name": "stdout",
     "output_type": "stream",
     "text": [
      "Dynamic Typing\n"
     ]
    }
   ],
   "source": [
    "#2.Dynamic Typing - we can reassign variables to different values.\n",
    "Num1 = 12\n",
    "Num1=\"Dynamic Typing\"\n",
    "print(Num1)"
   ]
  },
  {
   "cell_type": "code",
   "execution_count": 11,
   "id": "0bfdca8d-6311-49ec-b4a1-0ae0cbeb8820",
   "metadata": {},
   "outputs": [
    {
     "name": "stdout",
     "output_type": "stream",
     "text": [
      "1 2 3\n",
      "12 12 12\n"
     ]
    }
   ],
   "source": [
    "#3.Multiple Assignment:\n",
    "a,b,c=1,2,3\n",
    "x=y=z = 12\n",
    "print(a,b,c)\n",
    "print(x,y,z)"
   ]
  },
  {
   "cell_type": "code",
   "execution_count": 17,
   "id": "aaeb47a0-ce76-467c-ba9a-6fd9f8c22be7",
   "metadata": {},
   "outputs": [
    {
     "name": "stdout",
     "output_type": "stream",
     "text": [
      "ADDITION OF TWO NUMBERS:\n",
      "The Addition of Two Numbers are  30\n"
     ]
    }
   ],
   "source": [
    "#ADDITION OF TWO NUMBERS:\n",
    "print(\"ADDITION OF TWO NUMBERS:\")\n",
    "Num1=24\n",
    "Num2=6\n",
    "sum = Num1+Num2      # python is case - sensitive\n",
    "print(\"The Addition of Two Numbers are \",sum)"
   ]
  },
  {
   "cell_type": "code",
   "execution_count": 27,
   "id": "e54eab8f-35a6-4b29-9136-89bdd4c8ef74",
   "metadata": {},
   "outputs": [
    {
     "name": "stdin",
     "output_type": "stream",
     "text": [
      "Enter the number 1 : 1\n",
      "Enter the number 2 : 2\n"
     ]
    },
    {
     "name": "stdout",
     "output_type": "stream",
     "text": [
      "The Addition of Two Numbers are  3\n"
     ]
    }
   ],
   "source": [
    "#Taking Input from user -- input function\n",
    "\n",
    "#numrical input\n",
    "Num1 = int(input(\"Enter the number 1 :\"))\n",
    "Num2 = int(input(\"Enter the number 2 :\"))\n",
    "sum = Num1+Num2     \n",
    "print(\"The Addition of Two Numbers are \",sum)"
   ]
  },
  {
   "cell_type": "code",
   "execution_count": 29,
   "id": "82edefab-1dc8-42e3-a145-955233cb3d64",
   "metadata": {},
   "outputs": [
    {
     "name": "stdin",
     "output_type": "stream",
     "text": [
      "Enter name: Aishwarya\n"
     ]
    },
    {
     "name": "stdout",
     "output_type": "stream",
     "text": [
      "Aishwarya\n"
     ]
    }
   ],
   "source": [
    "#string\n",
    "Name = input(\"Enter name:\")\n",
    "print(Name)"
   ]
  },
  {
   "cell_type": "code",
   "execution_count": 31,
   "id": "3dffcc4c-4c6c-40f7-be95-ffbb479bfde9",
   "metadata": {},
   "outputs": [
    {
     "name": "stdin",
     "output_type": "stream",
     "text": [
      "Enter the number 1 : 1.2\n",
      "Enter the number 2 : 2\n"
     ]
    },
    {
     "name": "stdout",
     "output_type": "stream",
     "text": [
      "The Addition of Two Numbers are  3.2\n"
     ]
    }
   ],
   "source": [
    "#float\n",
    "Num1 = float(input(\"Enter the number 1 :\"))\n",
    "Num2 = float(input(\"Enter the number 2 :\"))\n",
    "sum = Num1+Num2     \n",
    "print(\"The Addition of Two Numbers are \",sum)\n"
   ]
  },
  {
   "cell_type": "code",
   "execution_count": 19,
   "id": "14758f74-184b-4db3-b7d8-5db696518724",
   "metadata": {},
   "outputs": [
    {
     "name": "stdout",
     "output_type": "stream",
     "text": [
      "['False', 'None', 'True', 'and', 'as', 'assert', 'async', 'await', 'break', 'class', 'continue', 'def', 'del', 'elif', 'else', 'except', 'finally', 'for', 'from', 'global', 'if', 'import', 'in', 'is', 'lambda', 'nonlocal', 'not', 'or', 'pass', 'raise', 'return', 'try', 'while', 'with', 'yield']\n"
     ]
    }
   ],
   "source": [
    "import keyword\n",
    "print(keyword.kwlist)"
   ]
  }
 ],
 "metadata": {
  "kernelspec": {
   "display_name": "Python [conda env:base] *",
   "language": "python",
   "name": "conda-base-py"
  },
  "language_info": {
   "codemirror_mode": {
    "name": "ipython",
    "version": 3
   },
   "file_extension": ".py",
   "mimetype": "text/x-python",
   "name": "python",
   "nbconvert_exporter": "python",
   "pygments_lexer": "ipython3",
   "version": "3.12.7"
  }
 },
 "nbformat": 4,
 "nbformat_minor": 5
}
