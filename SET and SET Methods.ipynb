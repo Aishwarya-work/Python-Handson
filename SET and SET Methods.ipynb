{
 "cells": [
  {
   "cell_type": "markdown",
   "id": "1315225b-900a-4e73-9929-0ef084fb3a58",
   "metadata": {},
   "source": [
    "SET:\n",
    "\n",
    "* collection of unordered items\n",
    "* Each element in a set is UNIQUE\n",
    "* IMMUTABLE\n",
    "* list, dict are not allowed in set (int, str , tuples etc are allowed )   [ list , dict -- mutable ]"
   ]
  },
  {
   "cell_type": "code",
   "execution_count": 17,
   "id": "0506c20c-c845-49f1-86ee-d6b4202279e5",
   "metadata": {},
   "outputs": [
    {
     "name": "stdout",
     "output_type": "stream",
     "text": [
      "{1, (1, 23, 4), 'Apple'}\n"
     ]
    }
   ],
   "source": [
    "s1 = {1,'Apple',(1,23,4) }\n",
    "print(s1)"
   ]
  },
  {
   "cell_type": "code",
   "execution_count": 9,
   "id": "9dbde508-761e-4c0d-982b-1d406892232f",
   "metadata": {},
   "outputs": [
    {
     "name": "stdout",
     "output_type": "stream",
     "text": [
      "{1, 2, 3, 4}\n",
      "{1, 2, 5}\n",
      "set()\n"
     ]
    }
   ],
   "source": [
    "num = {1,2,3,4}\n",
    "print(num)\n",
    "num1 = {1,2,5,5,5}  # changed to {1,2,5}  unique\n",
    "print(num1)\n",
    "num3 =set()\n",
    "print(num3)"
   ]
  },
  {
   "cell_type": "markdown",
   "id": "ec9b9188-dc1a-4bde-b0ef-c756bf1bc01b",
   "metadata": {},
   "source": [
    "SET METHODS :"
   ]
  },
  {
   "cell_type": "markdown",
   "id": "92803eb3-d91b-48f7-b888-927e86c44152",
   "metadata": {},
   "source": [
    "1. add(elem):  -- > Adds an element to the set."
   ]
  },
  {
   "cell_type": "code",
   "execution_count": 23,
   "id": "92a56c45-8e25-468c-abd6-36ea2c50b418",
   "metadata": {},
   "outputs": [
    {
     "name": "stdout",
     "output_type": "stream",
     "text": [
      "{1, 2, 3, 4}\n"
     ]
    }
   ],
   "source": [
    "s = {1, 2, 3}\n",
    "s.add(4)\n",
    "print(s)  # Output: {1, 2, 3, 4}\n"
   ]
  },
  {
   "cell_type": "markdown",
   "id": "702a0b24-0320-49ed-87f0-1ad46dd5c8ef",
   "metadata": {},
   "source": [
    "2. update(*others)  -->\n",
    "Adds elements from another iterable (list, set, tuple, etc)."
   ]
  },
  {
   "cell_type": "code",
   "execution_count": 32,
   "id": "ddc30a14-6dfb-4992-935b-81b919f2b11f",
   "metadata": {},
   "outputs": [
    {
     "name": "stdout",
     "output_type": "stream",
     "text": [
      "{1, 2, 3, 4, 5, 6}\n"
     ]
    }
   ],
   "source": [
    "s = {1, 2}\n",
    "s.update([3, 4], {5, 6})\n",
    "print(s)  # Output: {1, 2, 3, 4, 5, 6}\n"
   ]
  },
  {
   "cell_type": "markdown",
   "id": "88a9ebf9-d8ee-414e-b05e-e5383b823628",
   "metadata": {},
   "source": [
    "3. remove(elem)  -- \n",
    "Removes the specified element. Raises error if not found."
   ]
  },
  {
   "cell_type": "code",
   "execution_count": 30,
   "id": "f12f299e-02f2-4e2d-80ba-b60884d6e985",
   "metadata": {},
   "outputs": [
    {
     "name": "stdout",
     "output_type": "stream",
     "text": [
      "{1, 3}\n"
     ]
    }
   ],
   "source": [
    "s = {1, 2, 3}\n",
    "s.remove(2)\n",
    "print(s)  # Output: {1, 3}\n",
    "# s.remove(5) → Raises KeyError\n"
   ]
  },
  {
   "cell_type": "markdown",
   "id": "036b96d5-76f6-4f31-93fa-d1bce4f46d61",
   "metadata": {},
   "source": [
    "4. discard(elem)  -- > Removes the element if it exists. No error if it doesn’t."
   ]
  },
  {
   "cell_type": "code",
   "execution_count": 35,
   "id": "025308d7-5c63-4918-90fc-c24dc6222879",
   "metadata": {},
   "outputs": [
    {
     "name": "stdout",
     "output_type": "stream",
     "text": [
      "{1, 3}\n"
     ]
    }
   ],
   "source": [
    "s = {1, 2, 3}\n",
    "s.discard(2)\n",
    "s.discard(5)  # No error\n",
    "print(s)  # Output: {1, 3}\n"
   ]
  },
  {
   "cell_type": "markdown",
   "id": "ffb08b59-6b93-4fed-a12a-77697b8af9ae",
   "metadata": {},
   "source": [
    "5. pop()  -- >Removes and returns an arbitrary element."
   ]
  },
  {
   "cell_type": "code",
   "execution_count": 38,
   "id": "54fe9287-0d09-4107-a161-a579647509c0",
   "metadata": {},
   "outputs": [
    {
     "name": "stdout",
     "output_type": "stream",
     "text": [
      "10\n",
      "{20, 30}\n"
     ]
    }
   ],
   "source": [
    "s = {10, 20, 30}\n",
    "x = s.pop()\n",
    "print(x)  # Output: Random element (e.g., 10)\n",
    "print(s)  # Remaining elements\n"
   ]
  },
  {
   "cell_type": "markdown",
   "id": "7e55d4af-b5ad-4f2c-abd0-0e135d439a09",
   "metadata": {},
   "source": [
    "6. clear() -->\n",
    "Removes all elements from the set."
   ]
  },
  {
   "cell_type": "code",
   "execution_count": null,
   "id": "a32df5f4-695a-4d9e-bcbf-d00f175f1c94",
   "metadata": {},
   "outputs": [],
   "source": [
    "s = {1, 2, 3}\n",
    "s.clear()\n",
    "print(s)  # Output: set()\n"
   ]
  },
  {
   "cell_type": "markdown",
   "id": "d5adee98-cad1-4072-8318-abe1b0ed130f",
   "metadata": {},
   "source": [
    "SET OPERATIONS:"
   ]
  },
  {
   "cell_type": "markdown",
   "id": "7686033e-f5b4-447c-934f-32e795ff6b34",
   "metadata": {},
   "source": [
    "7. union(*others) or |\n",
    "\n",
    "Returns all elements from both sets."
   ]
  },
  {
   "cell_type": "code",
   "execution_count": 43,
   "id": "39c92f24-75d1-46e0-a255-ba078af3c06a",
   "metadata": {},
   "outputs": [
    {
     "name": "stdout",
     "output_type": "stream",
     "text": [
      "{1, 2, 3}\n",
      "{1, 2, 3}\n"
     ]
    }
   ],
   "source": [
    "a = {1, 2}\n",
    "b = {2, 3}\n",
    "print(a.union(b))   # Output: {1, 2, 3}\n",
    "print(a | b)        # Output: {1, 2, 3}\n"
   ]
  },
  {
   "cell_type": "markdown",
   "id": "45e2cb26-b0b0-4189-a99e-d4528f3a4faa",
   "metadata": {},
   "source": [
    "8. intersection(*others) or &\n",
    "   \n",
    "Returns common elements."
   ]
  },
  {
   "cell_type": "code",
   "execution_count": 46,
   "id": "22825d48-5791-47be-b2c1-65281200747b",
   "metadata": {},
   "outputs": [
    {
     "name": "stdout",
     "output_type": "stream",
     "text": [
      "{2}\n",
      "{2}\n"
     ]
    }
   ],
   "source": [
    "a = {1, 2}\n",
    "b = {2, 3}\n",
    "print(a.intersection(b))   # Output: {1, 2, 3}\n",
    "print(a & b)        # Output: {1, 2, 3}"
   ]
  },
  {
   "cell_type": "markdown",
   "id": "901fbb78-b768-4dab-b03a-8c89a1037be3",
   "metadata": {},
   "source": [
    "9. difference(*others) or -\n",
    "    \n",
    "Returns elements in the set that are not in the others."
   ]
  },
  {
   "cell_type": "code",
   "execution_count": 51,
   "id": "a7773b93-102e-412d-838a-63c922cf59bd",
   "metadata": {},
   "outputs": [
    {
     "name": "stdout",
     "output_type": "stream",
     "text": [
      "{1, 3}\n",
      "{1, 3}\n",
      "{4}\n",
      "{4}\n"
     ]
    }
   ],
   "source": [
    "a = {1, 2, 3}\n",
    "b = {2, 4}\n",
    "print(a.difference(b))  # Output: {1, 3}\n",
    "print(a - b)            # Output: {1, 3}\n",
    "print (b.difference(a))\n",
    "print(b-a)"
   ]
  },
  {
   "cell_type": "markdown",
   "id": "7ef20557-4e3d-4bc2-9a17-833182b4cceb",
   "metadata": {},
   "source": [
    "* A - B CALCULATION:\n",
    "\n",
    "Now compare each element in a with b.\n",
    "\n",
    "1 is in a and NOT in b → ✅ keep it\n",
    "\n",
    "2 is in a but also in b → ❌ remove it\n",
    "\n",
    "3 is in a and NOT in b → ✅ keep it\n",
    "\n",
    "* B - A CALCULATION:\n",
    "\n",
    "2 is in both → ❌ remove it\n",
    "\n",
    "4 is in b → ✅ keep it\n",
    "\n"
   ]
  },
  {
   "cell_type": "markdown",
   "id": "397521dc-15f5-4467-a449-2698dbc4793d",
   "metadata": {},
   "source": [
    "10. symmetric_difference(other) or ^ \n",
    "\n",
    "Returns elements in either set but not both."
   ]
  },
  {
   "cell_type": "markdown",
   "id": "c456e146-a84b-4af8-8234-100327244727",
   "metadata": {},
   "source": [
    "a = {1, 2, 3}\n",
    "b = {2, 4}\n",
    "print(a.symmetric_difference(b))  # Output: {1, 3, 4}\n",
    "print(a ^ b)                      # Output: {1, 3, 4}\n",
    "print(b.symmetric_difference(a))\n",
    "print(b^a)"
   ]
  },
  {
   "cell_type": "markdown",
   "id": "a4f7d4a1-4396-42f6-a5da-ba5899583f0b",
   "metadata": {},
   "source": [
    "SET COMPARISON METHODS :"
   ]
  },
  {
   "cell_type": "markdown",
   "id": "97fd560d-189c-4658-a407-83b6370a83ca",
   "metadata": {},
   "source": [
    "11. issubset() or <=\n",
    "\n",
    "    Checks if all elements in set A are also in set B."
   ]
  },
  {
   "cell_type": "code",
   "execution_count": 68,
   "id": "2ee48483-7ae4-4f51-b2f1-5f7fb80f9f20",
   "metadata": {},
   "outputs": [
    {
     "name": "stdout",
     "output_type": "stream",
     "text": [
      "True\n",
      "True\n",
      "False\n"
     ]
    }
   ],
   "source": [
    "a = {1, 2}\n",
    "b = {1, 2, 3}\n",
    "\n",
    "print(a.issubset(b))  # Output: True\n",
    "print(a <= b)         # Output: True\n",
    "\n",
    "c = {1, 4}\n",
    "print(c.issubset(b))  # Output: False (4 is not in b)\n"
   ]
  },
  {
   "cell_type": "markdown",
   "id": "510c4981-b32e-4b84-ab34-837c21051289",
   "metadata": {},
   "source": [
    "12. issuperset() or >=\n",
    "\n",
    "    Checks if set A contains all elements of set B."
   ]
  },
  {
   "cell_type": "code",
   "execution_count": 70,
   "id": "a9f20f47-aa55-485c-a27d-74648fd0c678",
   "metadata": {},
   "outputs": [
    {
     "name": "stdout",
     "output_type": "stream",
     "text": [
      "True\n",
      "True\n",
      "False\n"
     ]
    }
   ],
   "source": [
    "a = {1, 2, 3}\n",
    "b = {1, 2}\n",
    "\n",
    "print(a.issuperset(b))  # Output: True\n",
    "print(a >= b)           # Output: True\n",
    "\n",
    "c = {1, 4}\n",
    "print(a.issuperset(c))  # Output: False (4 is not in a)"
   ]
  },
  {
   "cell_type": "markdown",
   "id": "ee4c2092-1b31-43c2-8150-566bc0e8caa9",
   "metadata": {},
   "source": [
    "13. isdisjoint()\n",
    "\n",
    "    Returns True if the two sets have no elements in common."
   ]
  },
  {
   "cell_type": "code",
   "execution_count": 74,
   "id": "ba07cd80-2b6f-4449-806a-bcf7688ac69e",
   "metadata": {},
   "outputs": [
    {
     "name": "stdout",
     "output_type": "stream",
     "text": [
      "True\n",
      "False\n"
     ]
    }
   ],
   "source": [
    "a = {1, 2}\n",
    "b = {3, 4}\n",
    "\n",
    "print(a.isdisjoint(b))  # Output: True\n",
    "\n",
    "c = {2, 5}\n",
    "print(a.isdisjoint(c))  # Output: False (both have 2)\n"
   ]
  },
  {
   "cell_type": "markdown",
   "id": "82b9b94d-aa96-4317-b82c-b7ed51cb4713",
   "metadata": {},
   "source": [
    "| Method         | Meaning                         | Returns `True` if...                   |\n",
    "| -------------- | ------------------------------- | -------------------------------------- |\n",
    "| `issubset()`   | A is a subset of B (`A <= B`)   | All A's elements are in B              |\n",
    "| `issuperset()` | A is a superset of B (`A >= B`) | All B's elements are in A              |\n",
    "| `isdisjoint()` | A and B have nothing in common  | No elements are shared between A and B |\n"
   ]
  },
  {
   "cell_type": "code",
   "execution_count": null,
   "id": "4868a08c-635f-467b-97a8-81333419b8dc",
   "metadata": {},
   "outputs": [],
   "source": []
  }
 ],
 "metadata": {
  "kernelspec": {
   "display_name": "Python [conda env:base] *",
   "language": "python",
   "name": "conda-base-py"
  },
  "language_info": {
   "codemirror_mode": {
    "name": "ipython",
    "version": 3
   },
   "file_extension": ".py",
   "mimetype": "text/x-python",
   "name": "python",
   "nbconvert_exporter": "python",
   "pygments_lexer": "ipython3",
   "version": "3.12.7"
  }
 },
 "nbformat": 4,
 "nbformat_minor": 5
}
