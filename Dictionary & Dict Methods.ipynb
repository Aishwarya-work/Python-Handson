{
 "cells": [
  {
   "cell_type": "markdown",
   "id": "cc976dde-9152-4f58-beb3-979b94c5b562",
   "metadata": {},
   "source": [
    "DICTIONARY:\n",
    "\n",
    "* Stores dataa values as key: value pair\n",
    "* Unordered , Mutable and don't allow duplicate values.\n",
    "* Unordered --> no indexing "
   ]
  },
  {
   "cell_type": "code",
   "execution_count": 130,
   "id": "1a5f887f-f217-4049-bb02-e109d84a1349",
   "metadata": {},
   "outputs": [
    {
     "name": "stdout",
     "output_type": "stream",
     "text": [
      "<class 'dict'>\n",
      "{'name': 'Aishwarya', 'age': 24, 'marks': [90, 98, 99]}\n"
     ]
    },
    {
     "data": {
      "text/plain": [
       "[90, 98, 99]"
      ]
     },
     "execution_count": 130,
     "metadata": {},
     "output_type": "execute_result"
    }
   ],
   "source": [
    "info = {'name' : 'Aishwarya',\n",
    "        'age':24,\n",
    "        'marks':[90,98,99]}\n",
    "print(type(info))\n",
    "print(info)\n",
    "info['marks']    # ACCESSING VALUES IN DICT"
   ]
  },
  {
   "cell_type": "code",
   "execution_count": 110,
   "id": "99da4146-3835-4858-ba9a-be59b09b0600",
   "metadata": {},
   "outputs": [
    {
     "name": "stdout",
     "output_type": "stream",
     "text": [
      "{'name': 'Aishwarya', 'age': 24, 'marks': 100}\n"
     ]
    }
   ],
   "source": [
    "#UPDATING DICTIONARY\n",
    "info['marks'] = 100\n",
    "print(info)"
   ]
  },
  {
   "cell_type": "markdown",
   "id": "93ac0e06-11e3-4d3c-be45-806170b6731d",
   "metadata": {},
   "source": [
    "NESTED DICTIONARY  -- > DICT {DICT}\n"
   ]
  },
  {
   "cell_type": "code",
   "execution_count": 112,
   "id": "eee56230-3a31-4ae3-ada8-9cf2f63651e6",
   "metadata": {},
   "outputs": [
    {
     "name": "stdout",
     "output_type": "stream",
     "text": [
      "<class 'dict'>\n",
      "{'name': 'Aishwarya', 'age': 24, 'marks': {'English': 90, 'Tamil': 98, 'Maths': 99}}\n"
     ]
    },
    {
     "data": {
      "text/plain": [
       "90"
      ]
     },
     "execution_count": 112,
     "metadata": {},
     "output_type": "execute_result"
    }
   ],
   "source": [
    "info1 = {'name' : 'Aishwarya',\n",
    "        'age':24,\n",
    "        'marks':{'English':90,'Tamil':98,'Maths':99}}\n",
    "print(type(info1))\n",
    "print(info1)\n",
    "info1['marks']['English']   # ACCESSING VALUES IN NESTED DICT"
   ]
  },
  {
   "cell_type": "markdown",
   "id": "687ee9d8-d30a-4a72-b3c9-d426d8347fad",
   "metadata": {},
   "source": [
    "DICTIONARY METHODS:"
   ]
  },
  {
   "cell_type": "markdown",
   "id": "3cca8444-a9c0-44f2-8d92-b88807cbbc25",
   "metadata": {},
   "source": [
    " 1. dict.keys():  Return all the keys"
   ]
  },
  {
   "cell_type": "code",
   "execution_count": 132,
   "id": "be00b93d-a088-44ac-a58c-defbcdc63c89",
   "metadata": {},
   "outputs": [
    {
     "name": "stdout",
     "output_type": "stream",
     "text": [
      "['name', 'age', 'marks']\n"
     ]
    }
   ],
   "source": [
    "info.keys()\n",
    "\n",
    "#CONVERTING INTO LIST\n",
    "keys = list(info.keys())\n",
    "print(keys)"
   ]
  },
  {
   "cell_type": "markdown",
   "id": "e58bd031-244c-476b-bb58-9b9c52fdf3ad",
   "metadata": {},
   "source": [
    " 2. dict.values():  Return all the values"
   ]
  },
  {
   "cell_type": "code",
   "execution_count": 134,
   "id": "e5a8a826-de8e-4cb5-8c60-67f6f9c52707",
   "metadata": {},
   "outputs": [
    {
     "name": "stdout",
     "output_type": "stream",
     "text": [
      "['Aishwarya', 24, [90, 98, 99]]\n"
     ]
    }
   ],
   "source": [
    "info.values()\n",
    "\n",
    "#CONVERTING INTO LIST\n",
    "values = list(info.values())\n",
    "print(values)"
   ]
  },
  {
   "cell_type": "markdown",
   "id": "19204cff-1963-4580-84ca-4db9431239c7",
   "metadata": {},
   "source": [
    "3. dict.items():  Return all the key value pairs"
   ]
  },
  {
   "cell_type": "code",
   "execution_count": 122,
   "id": "5430dbe4-b16a-4404-8b2c-72d81e6c9930",
   "metadata": {},
   "outputs": [
    {
     "data": {
      "text/plain": [
       "dict_items([('name', 'Aishwarya'), ('age', 24), ('marks', 100)])"
      ]
     },
     "execution_count": 122,
     "metadata": {},
     "output_type": "execute_result"
    }
   ],
   "source": [
    "info.items()  #RETURN IN TUPLE FORM"
   ]
  },
  {
   "cell_type": "code",
   "execution_count": 136,
   "id": "ddf67d64-3c4d-4b02-b0ba-d8ba48a87fa5",
   "metadata": {},
   "outputs": [
    {
     "name": "stdout",
     "output_type": "stream",
     "text": [
      "[('name', 'Aishwarya'), ('age', 24), ('marks', [90, 98, 99])]\n"
     ]
    }
   ],
   "source": [
    "#CONVERTING INTO LIST\n",
    "items = list(info.items())\n",
    "print(items)"
   ]
  },
  {
   "cell_type": "markdown",
   "id": "f666e93e-c1ef-4d7a-be05-1a0aec286e7f",
   "metadata": {},
   "source": [
    "4. dict.get('key') : Return the values for the keys or a default if the key isn't present "
   ]
  },
  {
   "cell_type": "code",
   "execution_count": 124,
   "id": "fb262af2-241c-4c06-bfdb-d22d2b86c415",
   "metadata": {},
   "outputs": [
    {
     "data": {
      "text/plain": [
       "'Aishwarya'"
      ]
     },
     "execution_count": 124,
     "metadata": {},
     "output_type": "execute_result"
    }
   ],
   "source": [
    "info.get('name')"
   ]
  },
  {
   "cell_type": "markdown",
   "id": "14cd4be8-1971-4af1-b1d1-b053bd96bc2c",
   "metadata": {},
   "source": [
    "5. dict.update(newdict): Updates dictionary with key-value pairs from another dictionary."
   ]
  },
  {
   "cell_type": "code",
   "execution_count": 138,
   "id": "62072a83-93eb-4289-8f80-f9f512899b8d",
   "metadata": {},
   "outputs": [
    {
     "name": "stdout",
     "output_type": "stream",
     "text": [
      "{'name': 'Aishwarya', 'age': 24, 'marks': [90, 98, 99], 'city': 'Chennai'}\n"
     ]
    }
   ],
   "source": [
    "info.update({'city':'Chennai'})\n",
    "print(info)"
   ]
  },
  {
   "cell_type": "markdown",
   "id": "1c929093-a434-4de9-85e8-6c315d936599",
   "metadata": {},
   "source": [
    "6. COPY -- Creates a shallow copy of the dictionary."
   ]
  },
  {
   "cell_type": "code",
   "execution_count": 128,
   "id": "487c6c85-7088-4fe6-a737-48fc767c2eca",
   "metadata": {},
   "outputs": [
    {
     "name": "stdout",
     "output_type": "stream",
     "text": [
      "{'name': 'Aishwarya', 'age': 24, 'marks': 100, 'city': 'Chennai'}\n"
     ]
    }
   ],
   "source": [
    "info_copy = info.copy ()\n",
    "print(info_copy)"
   ]
  },
  {
   "cell_type": "markdown",
   "id": "55119b1d-16c4-4807-b91c-d9e2bd80cd83",
   "metadata": {},
   "source": [
    "7. POP -- REMOVE A KEY AND RETURN ITS VALUE"
   ]
  },
  {
   "cell_type": "code",
   "execution_count": 140,
   "id": "54ee3b3c-dcd9-413a-b1a9-68e3a5e60169",
   "metadata": {},
   "outputs": [
    {
     "name": "stdout",
     "output_type": "stream",
     "text": [
      "24\n",
      "{'name': 'Aishwarya', 'marks': [90, 98, 99], 'city': 'Chennai'}\n"
     ]
    }
   ],
   "source": [
    "age = info.pop('age')\n",
    "print(age)       # 24\n",
    "print(info)      # {'name': 'Aishwarya', 'marks': [90, 98, 99]}\n"
   ]
  },
  {
   "cell_type": "markdown",
   "id": "ab0965cb-5003-4e7a-b18f-f2bddd53c8a6",
   "metadata": {},
   "source": [
    "8. POPITEM -- Removes and returns the last inserted key-value pair."
   ]
  },
  {
   "cell_type": "code",
   "execution_count": 142,
   "id": "73b648da-2962-4ece-b388-e7100a2b6d0d",
   "metadata": {},
   "outputs": [
    {
     "name": "stdout",
     "output_type": "stream",
     "text": [
      "{'name': 'Aishwarya', 'marks': [90, 98, 99], 'city': 'Chennai'}\n",
      "('city', 'Chennai')\n"
     ]
    }
   ],
   "source": [
    "print(info)\n",
    "last_item = info.popitem()\n",
    "print(last_item)        # NOTE : DONT USE RUN THIS METHOD every time we run it will pop the values and create emptyt dict"
   ]
  },
  {
   "cell_type": "markdown",
   "id": "387d9d5c-2746-4aa1-81ce-2c16805943be",
   "metadata": {},
   "source": [
    "9. SETDEFAULT() -- Returns the value of a key. If not present, inserts with default value."
   ]
  },
  {
   "cell_type": "code",
   "execution_count": 145,
   "id": "e1c01dbb-d834-4107-941a-fdc3f4a6787f",
   "metadata": {},
   "outputs": [
    {
     "name": "stdout",
     "output_type": "stream",
     "text": [
      "159\n",
      "{'name': 'Aishwarya', 'marks': [90, 98, 99], 'height': 159}\n"
     ]
    }
   ],
   "source": [
    "height = info.setdefault('height', 159)\n",
    "print(height)  # 160\n",
    "print(info)    # Now includes 'height': 160\n"
   ]
  },
  {
   "cell_type": "markdown",
   "id": "26b547b4-2839-46f8-9c8c-59f03243a382",
   "metadata": {},
   "source": [
    "10. clear() -- Removes all items from the dictionary."
   ]
  },
  {
   "cell_type": "code",
   "execution_count": 148,
   "id": "07173bc6-2966-42af-849c-901e2720c2e2",
   "metadata": {},
   "outputs": [
    {
     "name": "stdout",
     "output_type": "stream",
     "text": [
      "{}\n"
     ]
    }
   ],
   "source": [
    "info.clear()\n",
    "print(info)"
   ]
  },
  {
   "cell_type": "code",
   "execution_count": 150,
   "id": "b6dd57c0-5341-41e3-8c4c-a720a95fbdf7",
   "metadata": {},
   "outputs": [
    {
     "name": "stdout",
     "output_type": "stream",
     "text": [
      "{}\n"
     ]
    }
   ],
   "source": [
    "print(info)"
   ]
  },
  {
   "cell_type": "code",
   "execution_count": null,
   "id": "7dfcc662-ecca-4db9-8a4d-3fe69c99c8c3",
   "metadata": {},
   "outputs": [],
   "source": []
  }
 ],
 "metadata": {
  "kernelspec": {
   "display_name": "Python [conda env:base] *",
   "language": "python",
   "name": "conda-base-py"
  },
  "language_info": {
   "codemirror_mode": {
    "name": "ipython",
    "version": 3
   },
   "file_extension": ".py",
   "mimetype": "text/x-python",
   "name": "python",
   "nbconvert_exporter": "python",
   "pygments_lexer": "ipython3",
   "version": "3.12.7"
  }
 },
 "nbformat": 4,
 "nbformat_minor": 5
}
