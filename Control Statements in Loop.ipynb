{
 "cells": [
  {
   "cell_type": "markdown",
   "id": "39064f19-de7a-4fd7-80f8-5adce1bee785",
   "metadata": {},
   "source": [
    "# Control Statements in Loops\n",
    "Loop control statements change execution from their normal sequence.\n",
    "\n",
    "1. continue:\n",
    "\n",
    "Skips the current iteration and returns control to the beginning of the loop.\n",
    "\n",
    "2. break:\n",
    "\n",
    "Exits the loop immediately, regardless of the loop condition.\n",
    "\n",
    "3. pass:\n",
    "\n",
    "Does nothing; used as a placeholder in loops or code blocks that are yet to be implemented."
   ]
  },
  {
   "cell_type": "markdown",
   "id": "c5d1d2bd-6f1c-47ae-8365-7f5f52ff6e06",
   "metadata": {},
   "source": [
    "# Search for the number 'X' in a list"
   ]
  },
  {
   "cell_type": "code",
   "execution_count": 10,
   "id": "477d49bf-fcc8-4850-8df5-a1bc18a55e27",
   "metadata": {},
   "outputs": [
    {
     "name": "stdout",
     "output_type": "stream",
     "text": [
      "66\n"
     ]
    }
   ],
   "source": [
    "lst = [12,23,23,13,56,87,67,66]\n",
    "srch_num = 66\n",
    "for i in lst:\n",
    "    if i == srch_num:\n",
    "        print(i)\n",
    "        break"
   ]
  },
  {
   "cell_type": "markdown",
   "id": "6b2fd007-3dc8-4e66-b127-23157e4e6010",
   "metadata": {},
   "source": [
    "# Print all letters of a sequence except 'e' and 'n'"
   ]
  },
  {
   "cell_type": "code",
   "execution_count": 24,
   "id": "a3bfab2f-94f9-42af-8ecd-3b684f44f017",
   "metadata": {},
   "outputs": [
    {
     "name": "stdout",
     "output_type": "stream",
     "text": [
      "H\n",
      "v\n",
      " \n",
      " \n",
      "N\n",
      "c\n",
      " \n",
      "d\n",
      "y\n",
      " \n"
     ]
    }
   ],
   "source": [
    "string = \"Have a Nice day \"\n",
    "for i in string:\n",
    "    if i==\"a\" or i==\"e\" or i==\"i\":\n",
    "        continue\n",
    "    else:\n",
    "        print(i)"
   ]
  },
  {
   "cell_type": "markdown",
   "id": "d3411bb4-89ee-46b3-ac6e-549da6f70b41",
   "metadata": {},
   "source": [
    "# Given a nested list of citizens having their age, name,address,show citizens eligible for voting:\n"
   ]
  },
  {
   "cell_type": "code",
   "execution_count": 28,
   "id": "fb9f3019-cb93-4357-b48f-4187d45ea65a",
   "metadata": {},
   "outputs": [
    {
     "name": "stdout",
     "output_type": "stream",
     "text": [
      "Aishu  - Eligible\n",
      "Muthu  - Eligible\n",
      "Sasi  -Not Eligible\n"
     ]
    }
   ],
   "source": [
    "citizens = [[24,\"Aishu\",\"Chennai\"],[50,\"Muthu\",\"Dindigul\"],[17,\"Sasi\",\"Madurai\"]]\n",
    "for i in citizens:\n",
    "    if i[0] >18:\n",
    "        print(i[1],\" - Eligible\")\n",
    "    else:\n",
    "        print(i[1],\" -Not Eligible\")"
   ]
  },
  {
   "cell_type": "markdown",
   "id": "66499081-0556-47d5-bee3-e2bf0841f888",
   "metadata": {},
   "source": [
    "# Continue"
   ]
  },
  {
   "cell_type": "code",
   "execution_count": 30,
   "id": "a1228085-41cb-4c9a-9b48-8919b824dfa6",
   "metadata": {},
   "outputs": [
    {
     "name": "stdout",
     "output_type": "stream",
     "text": [
      "1\n",
      "2\n",
      "4\n",
      "5\n"
     ]
    }
   ],
   "source": [
    "for i in range(1, 6):\n",
    "    if i == 3:\n",
    "        continue  #Skips printing the number 3\n",
    "    print(i)\n"
   ]
  },
  {
   "cell_type": "markdown",
   "id": "57df95ca-9b88-4ab7-954d-23ce171e26a5",
   "metadata": {},
   "source": [
    "# Break"
   ]
  },
  {
   "cell_type": "code",
   "execution_count": 32,
   "id": "5bda7d68-667b-41b7-9dd3-5747033619fc",
   "metadata": {},
   "outputs": [
    {
     "name": "stdout",
     "output_type": "stream",
     "text": [
      "1\n",
      "2\n"
     ]
    }
   ],
   "source": [
    "for i in range(1, 6):\n",
    "    if i == 3:\n",
    "        break   #Stops the loop when it reaches 3:\n",
    "    print(i)"
   ]
  },
  {
   "cell_type": "markdown",
   "id": "56988782-ebb9-438a-86ce-cff03adf0fa8",
   "metadata": {},
   "source": [
    "# Pass"
   ]
  },
  {
   "cell_type": "code",
   "execution_count": 34,
   "id": "13693edf-1735-4050-8a67-d8ea4e49bf4e",
   "metadata": {},
   "outputs": [
    {
     "name": "stdout",
     "output_type": "stream",
     "text": [
      "1\n",
      "2\n",
      "3\n",
      "4\n",
      "5\n"
     ]
    }
   ],
   "source": [
    "for i in range(1, 6):\n",
    "    if i == 3:\n",
    "        pass  # Placeholder, does nothing\n",
    "    print(i)\n"
   ]
  },
  {
   "cell_type": "code",
   "execution_count": null,
   "id": "0a3d134c-0657-478f-841b-dcc4652817dc",
   "metadata": {},
   "outputs": [],
   "source": []
  }
 ],
 "metadata": {
  "kernelspec": {
   "display_name": "Python [conda env:base] *",
   "language": "python",
   "name": "conda-base-py"
  },
  "language_info": {
   "codemirror_mode": {
    "name": "ipython",
    "version": 3
   },
   "file_extension": ".py",
   "mimetype": "text/x-python",
   "name": "python",
   "nbconvert_exporter": "python",
   "pygments_lexer": "ipython3",
   "version": "3.12.7"
  }
 },
 "nbformat": 4,
 "nbformat_minor": 5
}
