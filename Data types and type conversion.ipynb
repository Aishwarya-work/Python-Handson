{
 "cells": [
  {
   "cell_type": "markdown",
   "id": "f504cb62-eeb2-4618-bc80-bb76424106ba",
   "metadata": {},
   "source": [
    "DATA TYPES:\n",
    "1. Numeric - int , float,complex\n",
    "2. Boolean - True,False\n",
    "3. Sequence - String, List, Tuple\n",
    "4. Mapping - Dictionary\n",
    "5. Set\n"
   ]
  },
  {
   "cell_type": "markdown",
   "id": "c06ac1b3-9223-4650-84c7-6cd8c7876edf",
   "metadata": {},
   "source": [
    "1. LIST - Mutable , ordered\n",
    "2. TUPLE - immutable , ordered\n",
    "3. DICT - Mutable,unordered\n",
    "4. SET - Mutable , unordered\n"
   ]
  },
  {
   "cell_type": "markdown",
   "id": "75875a8b-37ff-4432-87f6-57f59483b33b",
   "metadata": {},
   "source": [
    "MUTABLE OBJECTS:\n",
    "\n",
    " * These objects can be modified after they are created\n",
    " * We can change without creating new object\n",
    " * Its memory location remains same\n",
    "EX - List,Dict,Set\n"
   ]
  },
  {
   "cell_type": "code",
   "execution_count": 1,
   "id": "4817abc4-209d-49cf-acd1-2d5ae9b32b70",
   "metadata": {},
   "outputs": [
    {
     "name": "stdout",
     "output_type": "stream",
     "text": [
      "[1, 2, 3]\n",
      "2664581061824\n",
      "[1, 2, 3, 4]\n",
      "2664581061824\n"
     ]
    }
   ],
   "source": [
    "Lt = [1,2,3]\n",
    "print(Lt)\n",
    "print(id(Lt))\n",
    "Lt.append(4)\n",
    "print(Lt)\n",
    "print(id(Lt))"
   ]
  },
  {
   "cell_type": "markdown",
   "id": "642997dd-51a5-48f6-bd1a-bc0f5c4f976f",
   "metadata": {},
   "source": [
    "IMMUTABLE OBJECTS:\n",
    "\n",
    " * cannot be modified once created\n",
    " * Any operations that appears to modify the object actually creates a new object.\n",
    " * Their original identity(memory location) remains constant but new value gets different identity.\n",
    "EX - int,float , strings ,tuple \n",
    "\n"
   ]
  },
  {
   "cell_type": "code",
   "execution_count": 11,
   "id": "fefa6e92-669e-487d-ae53-c16e34c2fbb9",
   "metadata": {},
   "outputs": [
    {
     "name": "stdout",
     "output_type": "stream",
     "text": [
      "I am learning\n",
      "2664599235120\n",
      "I am learning python\n",
      "2664581513072\n"
     ]
    }
   ],
   "source": [
    "str = \"I am learning\"\n",
    "print(str)\n",
    "print(id(str))\n",
    "str+=\" python\"\n",
    "print(str)\n",
    "print(id(str))"
   ]
  },
  {
   "cell_type": "markdown",
   "id": "790fb87b-a790-45bb-97a2-274689cb3c18",
   "metadata": {},
   "source": [
    "TYPE CONVERSION : converting one data type to another.\n"
   ]
  },
  {
   "cell_type": "markdown",
   "id": "0468b7b1-1b47-4545-b2b6-995f9c378ad2",
   "metadata": {},
   "source": [
    "1.Implicit conversion:(Type coercion)\n",
    "\n",
    "python automatically converts one data type to other.\n"
   ]
  },
  {
   "cell_type": "code",
   "execution_count": 17,
   "id": "61c71f82-0ca5-477a-b018-7c2cf7b3dfb2",
   "metadata": {},
   "outputs": [
    {
     "name": "stdout",
     "output_type": "stream",
     "text": [
      "15.5\n",
      "<class 'float'>\n"
     ]
    }
   ],
   "source": [
    "num1 = 5\n",
    "num2 = 10.5\n",
    "num3 = num1+num2\n",
    "print(num3)\n",
    "print(type(num3))\n"
   ]
  },
  {
   "cell_type": "markdown",
   "id": "8276af37-54ab-4b8e-873e-75587219e678",
   "metadata": {},
   "source": [
    "2.Explicit conversion:(Type casting)\n",
    "\n",
    "Manually converting one data type to other using built in data types"
   ]
  },
  {
   "cell_type": "code",
   "execution_count": 36,
   "id": "26099f96-0cb6-4e92-9a8a-509d574b1f6c",
   "metadata": {},
   "outputs": [
    {
     "name": "stdout",
     "output_type": "stream",
     "text": [
      "123\n"
     ]
    }
   ],
   "source": [
    "#String to int \n",
    "str1 = \"123\"\n",
    "integer = int(str1)\n",
    "print(integer)"
   ]
  },
  {
   "cell_type": "code",
   "execution_count": 7,
   "id": "6963ea39-0ad6-45e3-b1dc-7720a074c486",
   "metadata": {},
   "outputs": [
    {
     "name": "stdout",
     "output_type": "stream",
     "text": [
      "<class 'float'>\n",
      "123.2\n",
      "<class 'str'>\n"
     ]
    }
   ],
   "source": [
    "#Float to string\n",
    "\n",
    "int1 = 123.2\n",
    "print(type(int1))\n",
    "str2 = str(int1)\n",
    "print(str2)\n",
    "print(type(str2))"
   ]
  },
  {
   "cell_type": "code",
   "execution_count": 9,
   "id": "fc6feb7e-0796-4677-a3b3-e107d416cd37",
   "metadata": {},
   "outputs": [
    {
     "name": "stdout",
     "output_type": "stream",
     "text": [
      "(6+24j)\n"
     ]
    }
   ],
   "source": [
    "a = 6\n",
    "b = 24\n",
    "c = complex(a,b)\n",
    "print(c)"
   ]
  },
  {
   "cell_type": "code",
   "execution_count": null,
   "id": "998b2d18-738d-4826-ba9d-0afb77b6bdde",
   "metadata": {},
   "outputs": [],
   "source": []
  }
 ],
 "metadata": {
  "kernelspec": {
   "display_name": "Python [conda env:base] *",
   "language": "python",
   "name": "conda-base-py"
  },
  "language_info": {
   "codemirror_mode": {
    "name": "ipython",
    "version": 3
   },
   "file_extension": ".py",
   "mimetype": "text/x-python",
   "name": "python",
   "nbconvert_exporter": "python",
   "pygments_lexer": "ipython3",
   "version": "3.12.7"
  }
 },
 "nbformat": 4,
 "nbformat_minor": 5
}
