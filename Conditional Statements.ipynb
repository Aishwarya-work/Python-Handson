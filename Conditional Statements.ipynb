{
 "cells": [
  {
   "cell_type": "markdown",
   "id": "644c7d39-8a78-4515-a039-fe904445d455",
   "metadata": {},
   "source": [
    "CONDITIONAL STATEMENTS -- allows to control the flow of program"
   ]
  },
  {
   "cell_type": "markdown",
   "id": "08a5a4bb-dc08-4081-8606-e0b7078476b4",
   "metadata": {},
   "source": [
    "1. IF:\n",
    "   \n",
    "   To test a condition and execute block of code only if the condition is true"
   ]
  },
  {
   "cell_type": "code",
   "execution_count": 6,
   "id": "717b3afa-05c1-4453-9c43-4c4d6e0ee984",
   "metadata": {},
   "outputs": [
    {
     "name": "stdin",
     "output_type": "stream",
     "text": [
      "Enter the temperature: 30\n"
     ]
    },
    {
     "name": "stdout",
     "output_type": "stream",
     "text": [
      "It's a hot day\n"
     ]
    }
   ],
   "source": [
    "#CHECKING TEMPERATURE:\n",
    "tmp = int(input(\"Enter the temperature:\"))\n",
    "if (tmp > 25):\n",
    "          print(\"It's a hot day\")\n"
   ]
  },
  {
   "cell_type": "markdown",
   "id": "6cc7d2fc-1caf-4884-b234-5abe8f004d81",
   "metadata": {},
   "source": [
    "2. IF ELSE:\n",
    "\n",
    "   if the condition is true one block of code will execute , if it is false other block of code will execute"
   ]
  },
  {
   "cell_type": "code",
   "execution_count": 12,
   "id": "3657dc3e-3949-4ffd-ae6f-b3791c0cb8ee",
   "metadata": {},
   "outputs": [
    {
     "name": "stdin",
     "output_type": "stream",
     "text": [
      "Enter your age: 17\n"
     ]
    },
    {
     "name": "stdout",
     "output_type": "stream",
     "text": [
      "You are not eligible to vote :( \n"
     ]
    }
   ],
   "source": [
    "#AGE VERIFICATION:\n",
    "age = int(input(\"Enter your age:\"))\n",
    "if age >= 18 :\n",
    "    print(\"You are eligible to vote :) \")\n",
    "else:\n",
    "    print(\"You are not eligible to vote :( \")\n",
    "    "
   ]
  },
  {
   "cell_type": "markdown",
   "id": "7ea1c1bc-7265-4d58-98db-57a83878e900",
   "metadata": {},
   "source": [
    "3.IF ELIF ELSE :\n",
    "\n",
    "To test multiple conditions sequentially. First true condition executes its block of code and rest are skipped.If no condition is true else block will execute."
   ]
  },
  {
   "cell_type": "code",
   "execution_count": 19,
   "id": "5125db83-c455-400c-85e8-fd00711dd348",
   "metadata": {},
   "outputs": [
    {
     "name": "stdin",
     "output_type": "stream",
     "text": [
      "Enter the score: 99\n"
     ]
    },
    {
     "name": "stdout",
     "output_type": "stream",
     "text": [
      "you Secured 'A' grade\n"
     ]
    }
   ],
   "source": [
    "#GRADING SYSTEM:\n",
    "score = int(input(\"Enter the score:\"))\n",
    "if score >=90:\n",
    "    grade = \"A\"\n",
    "elif score >80:\n",
    "    grade = \"B\"\n",
    "elif score >70:\n",
    "    grade = \"C\"\n",
    "else:\n",
    "    grade = \"D\"\n",
    "print(f\"you Secured '{grade}' grade\")"
   ]
  },
  {
   "cell_type": "code",
   "execution_count": 29,
   "id": "144db0f1-4182-462f-8ab1-5daaa2c4b018",
   "metadata": {},
   "outputs": [
    {
     "name": "stdout",
     "output_type": "stream",
     "text": [
      "STOP\n"
     ]
    }
   ],
   "source": [
    "#TRAFFIC LIGHT SYSTEM:\n",
    "traffic_light = \"red\"\n",
    "if traffic_light == \"green\":\n",
    "    print(\"GO\")\n",
    "elif traffic_light == \"Yellow\":\n",
    "    print(\"GO SLOW\")\n",
    "else:\n",
    "    print(\"STOP\")\n"
   ]
  },
  {
   "cell_type": "markdown",
   "id": "6a802731-504e-41fc-8a05-14785d2fca32",
   "metadata": {},
   "source": [
    "NESTED IF ELSE:\n",
    "\n",
    "you can nest if statemnts inside another if statements to create more complex logic\n"
   ]
  },
  {
   "cell_type": "code",
   "execution_count": 48,
   "id": "4f1d32fb-6d76-431c-a233-61e435a8b823",
   "metadata": {},
   "outputs": [
    {
     "name": "stdout",
     "output_type": "stream",
     "text": [
      "You qualify for a discount.\n",
      "Sign up as a loyalty member to get more discounts!\n"
     ]
    }
   ],
   "source": [
    "#ONLINE SHOPPING DISCOUNT:\n",
    "total_purchase = 120\n",
    "loyalty_member = False\n",
    "if total_purchase > 100:\n",
    "    print(\"You qualify for a discount.\")\n",
    "    if loyalty_member:\n",
    "        print(\"As a loyalty member, you get an additional 10% off.\")\n",
    "    else:\n",
    "        print(\"Sign up as a loyalty member to get more discounts!\")\n",
    "else:\n",
    "    print(\"Spend more than $100 to qualify for a discount.\")"
   ]
  },
  {
   "cell_type": "markdown",
   "id": "a5506583-7879-408e-92b1-aad460fcdd94",
   "metadata": {},
   "source": [
    "LOGICAL STATEMENTS IN CONDITIONAL STATEMENTS :\n",
    "\n",
    "and or not to combine multiple conditions."
   ]
  },
  {
   "cell_type": "code",
   "execution_count": 56,
   "id": "c1130390-0ac5-4845-b698-a6b2d0e9dd92",
   "metadata": {},
   "outputs": [
    {
     "name": "stdin",
     "output_type": "stream",
     "text": [
      "Enter your age: 15\n"
     ]
    },
    {
     "name": "stdout",
     "output_type": "stream",
     "text": [
      "you need to be 18 or must have library card \n"
     ]
    }
   ],
   "source": [
    "#LIBRARY MEMBERSHIP\n",
    "\n",
    "age = int(input(\"Enter your age:\"))\n",
    "lib_card = True\n",
    "if age >= 18 and lib_card:\n",
    "    print(\"you can borrow books from library \")\n",
    "if age <18 or not lib_card:\n",
    "    print(\"you need to be 18 or must have library card \")"
   ]
  },
  {
   "cell_type": "code",
   "execution_count": null,
   "id": "ec4d9a86-fb56-4416-a9f1-b509b9dcb9dc",
   "metadata": {},
   "outputs": [],
   "source": []
  }
 ],
 "metadata": {
  "kernelspec": {
   "display_name": "Python [conda env:base] *",
   "language": "python",
   "name": "conda-base-py"
  },
  "language_info": {
   "codemirror_mode": {
    "name": "ipython",
    "version": 3
   },
   "file_extension": ".py",
   "mimetype": "text/x-python",
   "name": "python",
   "nbconvert_exporter": "python",
   "pygments_lexer": "ipython3",
   "version": "3.12.7"
  }
 },
 "nbformat": 4,
 "nbformat_minor": 5
}
