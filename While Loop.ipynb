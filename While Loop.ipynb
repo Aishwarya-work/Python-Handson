{
 "cells": [
  {
   "cell_type": "markdown",
   "id": "7255b12c-2dbb-423a-a4d3-02d2efdfb588",
   "metadata": {},
   "source": [
    " # WHILE LOOP"
   ]
  },
  {
   "cell_type": "markdown",
   "id": "e019a8cf-1dc5-4441-a178-4c8bd0ae740d",
   "metadata": {},
   "source": [
    "* A while loop is a control flow statement in programming that allows code to be executed repeatedly based on a given Boolean condition. \n",
    "* The loop continues as long as the condition is True.\n",
    "\n",
    "while condition:\n",
    "\n",
    "    # code block to execute\n"
   ]
  },
  {
   "cell_type": "code",
   "execution_count": 12,
   "id": "3207db14-dc7a-4a16-851a-e000bd2942d7",
   "metadata": {},
   "outputs": [
    {
     "name": "stdout",
     "output_type": "stream",
     "text": [
      "I am blessed\n",
      "I am blessed\n",
      "I am blessed\n",
      "I am blessed\n",
      "I am blessed\n",
      "I am blessed\n"
     ]
    }
   ],
   "source": [
    "i = 1                         # INITIATE COUTER VALUE\n",
    "while i <= 6 :                # WHILE CONDITION\n",
    "    print(\"I am blessed\")     # STATEMENTS\n",
    "    i +=1                     # INCREASE COUNTER\n",
    "\n"
   ]
  },
  {
   "cell_type": "markdown",
   "id": "ea4aa09d-c22c-4892-8649-24f64c0b8f5a",
   "metadata": {},
   "source": [
    "# PRINT NUMBERS FROM 1 TO 100"
   ]
  },
  {
   "cell_type": "code",
   "execution_count": 1,
   "id": "89cd95ef-eb82-45ca-87a1-337913653bfc",
   "metadata": {
    "scrolled": true
   },
   "outputs": [
    {
     "name": "stdout",
     "output_type": "stream",
     "text": [
      "1\n",
      "2\n",
      "3\n",
      "4\n",
      "5\n",
      "6\n",
      "7\n",
      "8\n",
      "9\n",
      "10\n",
      "11\n",
      "12\n",
      "13\n",
      "14\n",
      "15\n",
      "16\n",
      "17\n",
      "18\n",
      "19\n",
      "20\n",
      "21\n",
      "22\n",
      "23\n",
      "24\n",
      "25\n",
      "26\n",
      "27\n",
      "28\n",
      "29\n",
      "30\n",
      "31\n",
      "32\n",
      "33\n",
      "34\n",
      "35\n",
      "36\n",
      "37\n",
      "38\n",
      "39\n",
      "40\n",
      "41\n",
      "42\n",
      "43\n",
      "44\n",
      "45\n",
      "46\n",
      "47\n",
      "48\n",
      "49\n",
      "50\n",
      "51\n",
      "52\n",
      "53\n",
      "54\n",
      "55\n",
      "56\n",
      "57\n",
      "58\n",
      "59\n",
      "60\n",
      "61\n",
      "62\n",
      "63\n",
      "64\n",
      "65\n",
      "66\n",
      "67\n",
      "68\n",
      "69\n",
      "70\n",
      "71\n",
      "72\n",
      "73\n",
      "74\n",
      "75\n",
      "76\n",
      "77\n",
      "78\n",
      "79\n",
      "80\n",
      "81\n",
      "82\n",
      "83\n",
      "84\n",
      "85\n",
      "86\n",
      "87\n",
      "88\n",
      "89\n",
      "90\n",
      "91\n",
      "92\n",
      "93\n",
      "94\n",
      "95\n",
      "96\n",
      "97\n",
      "98\n",
      "99\n",
      "100\n"
     ]
    }
   ],
   "source": [
    "i = 1\n",
    "while i <=100:\n",
    "    print(i)\n",
    "    i = i+1"
   ]
  },
  {
   "cell_type": "markdown",
   "id": "e1c1fc0b-106d-4990-a789-41d0f60106fa",
   "metadata": {},
   "source": [
    "# Sum of First N Natural Numbers"
   ]
  },
  {
   "cell_type": "markdown",
   "id": "e905d372-445c-4a48-9ae2-d82dac05905d",
   "metadata": {},
   "source": [
    "Natural Numbers = {1,2,3.......infinte } , no negative numbers "
   ]
  },
  {
   "cell_type": "code",
   "execution_count": 11,
   "id": "6d8c5576-2c9f-4582-950b-862a19b37e99",
   "metadata": {},
   "outputs": [
    {
     "name": "stdin",
     "output_type": "stream",
     "text": [
      "Enter a number:  11\n"
     ]
    },
    {
     "name": "stdout",
     "output_type": "stream",
     "text": [
      "Sum = 66\n"
     ]
    }
   ],
   "source": [
    "n = int(input(\"Enter a number: \"))  # User input\n",
    "sum = 0                             # Initialize sum\n",
    "\n",
    "i = 1                               # Start from 1\n",
    "while i <= n:                       # Repeat until i is greater than n\n",
    "    sum += i                        # Add current i to sum\n",
    "    i += 1                          # Increment i by 1\n",
    "\n",
    "print(\"Sum =\", sum)                 # Print final sum\n"
   ]
  },
  {
   "cell_type": "markdown",
   "id": "0aeef7d0-c96b-489d-a595-250bea1c3172",
   "metadata": {},
   "source": [
    "# Multiplication Table\n"
   ]
  },
  {
   "cell_type": "code",
   "execution_count": 17,
   "id": "3f29940a-c76f-4b23-8289-21a5822f4417",
   "metadata": {},
   "outputs": [
    {
     "name": "stdin",
     "output_type": "stream",
     "text": [
      "Enter the table: 6\n"
     ]
    },
    {
     "name": "stdout",
     "output_type": "stream",
     "text": [
      "6 x 1 = 6\n",
      "6 x 2 = 12\n",
      "6 x 3 = 18\n",
      "6 x 4 = 24\n",
      "6 x 5 = 30\n",
      "6 x 6 = 36\n",
      "6 x 7 = 42\n",
      "6 x 8 = 48\n",
      "6 x 9 = 54\n",
      "6 x 10 = 60\n"
     ]
    }
   ],
   "source": [
    "num = int(input (\"Enter the table:\"))\n",
    "i=1\n",
    "while i<=10:\n",
    "    print(f\"{num} x {i} = {num*i}\")\n",
    "    i+=1"
   ]
  },
  {
   "cell_type": "markdown",
   "id": "e6dfd376-b7de-496d-a7c9-481fe6ba7a7b",
   "metadata": {},
   "source": [
    "# print the elements in the list"
   ]
  },
  {
   "cell_type": "code",
   "execution_count": 27,
   "id": "9f3f994c-a739-4399-9c41-2636e14f3666",
   "metadata": {},
   "outputs": [
    {
     "name": "stdout",
     "output_type": "stream",
     "text": [
      "12\n",
      "23\n",
      "34\n",
      "45\n",
      "23\n",
      "33\n",
      "11\n",
      "123\n"
     ]
    }
   ],
   "source": [
    "lst = [12,23,34,45,23,33,11,123]\n",
    "i=0       # i -- index position ( 0 t0 7 )\n",
    "while i < len(lst):\n",
    "    print(lst[i])\n",
    "    i=i+1"
   ]
  },
  {
   "cell_type": "markdown",
   "id": "2a50e250-83a6-4dae-8d4a-3f6ac40b0b22",
   "metadata": {},
   "source": [
    "# Search ' s' is present in the string"
   ]
  },
  {
   "cell_type": "code",
   "execution_count": null,
   "id": "cb8a121f-30c2-49f0-a51b-7f78bb50aaff",
   "metadata": {},
   "outputs": [
    {
     "name": "stdout",
     "output_type": "stream",
     "text": [
      "True\n"
     ]
    }
   ],
   "source": [
    "string = \"success\"\n",
    "i = 0\n",
    "while i < len(string):\n",
    "    if string[i] == \"s\":\n",
    "        print(True)\n",
    "        i=i+1\n",
    "    "
   ]
  },
  {
   "cell_type": "markdown",
   "id": "35867e59-86a3-4ee4-9d03-25d8866f4a28",
   "metadata": {},
   "source": [
    "# Reverse a Number "
   ]
  },
  {
   "cell_type": "code",
   "execution_count": 2,
   "id": "ee685800-66c0-4cf5-9d27-f9f91d7be565",
   "metadata": {},
   "outputs": [
    {
     "name": "stdin",
     "output_type": "stream",
     "text": [
      "Enter a number:  5623\n"
     ]
    },
    {
     "name": "stdout",
     "output_type": "stream",
     "text": [
      "Reversed number: 3265\n"
     ]
    }
   ],
   "source": [
    "num = int(input(\"Enter a number: \"))\n",
    "rev = 0\n",
    "\n",
    "while num > 0:\n",
    "    digit = num % 10                # Extract last digit\n",
    "    rev = rev * 10 + digit          # Append digit to reversed number\n",
    "    num = num // 10                 # Remove last digit from original number\n",
    "\n",
    "print(\"Reversed number:\", rev)\n"
   ]
  },
  {
   "cell_type": "markdown",
   "id": "ab42ffb4-7053-4907-8334-2591fef2db11",
   "metadata": {},
   "source": [
    "# Palindrome\n"
   ]
  },
  {
   "cell_type": "code",
   "execution_count": 7,
   "id": "cbbe48a8-ddf1-4b0c-bfe0-e9188182d328",
   "metadata": {},
   "outputs": [
    {
     "name": "stdin",
     "output_type": "stream",
     "text": [
      "Enter a number:  123\n"
     ]
    },
    {
     "name": "stdout",
     "output_type": "stream",
     "text": [
      "Not a palindrome\n"
     ]
    }
   ],
   "source": [
    "num = int(input(\"Enter a number: \"))\n",
    "original = num\n",
    "rev = 0\n",
    "\n",
    "while num > 0:\n",
    "    digit = num % 10\n",
    "    rev = rev * 10 + digit\n",
    "    num //= 10\n",
    "\n",
    "if original == rev:\n",
    "    print(\"Palindrome\")\n",
    "else:\n",
    "    print(\"Not a palindrome\")\n"
   ]
  },
  {
   "cell_type": "code",
   "execution_count": null,
   "id": "be897471-9787-4527-8e8d-e78043feb337",
   "metadata": {},
   "outputs": [],
   "source": []
  }
 ],
 "metadata": {
  "kernelspec": {
   "display_name": "Python [conda env:base] *",
   "language": "python",
   "name": "conda-base-py"
  },
  "language_info": {
   "codemirror_mode": {
    "name": "ipython",
    "version": 3
   },
   "file_extension": ".py",
   "mimetype": "text/x-python",
   "name": "python",
   "nbconvert_exporter": "python",
   "pygments_lexer": "ipython3",
   "version": "3.12.7"
  }
 },
 "nbformat": 4,
 "nbformat_minor": 5
}
