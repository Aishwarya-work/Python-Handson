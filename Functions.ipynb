{
 "cells": [
  {
   "cell_type": "markdown",
   "id": "32c26a38-057b-43d8-ac78-ccdbc01b1b38",
   "metadata": {},
   "source": [
    "# Functions:\n",
    "\n",
    "* Functions are specific block of code that performs specific tasks.\n",
    "* Built in functions -- print, len, range, type,input etc\n"
   ]
  },
  {
   "cell_type": "markdown",
   "id": "5495e2b5-7b39-4456-bba2-be4bbd07b3f3",
   "metadata": {},
   "source": [
    "# 1. Create a function called add(),sub(),mul(),div() \n",
    "#  - and get the input a and b inside every function the print the result \n"
   ]
  },
  {
   "cell_type": "code",
   "execution_count": 8,
   "id": "242a5ee3-07aa-4ffc-b9fa-003dce13bbbd",
   "metadata": {},
   "outputs": [
    {
     "name": "stdin",
     "output_type": "stream",
     "text": [
      "Enter a: 6\n",
      "Enter b: 6\n"
     ]
    },
    {
     "name": "stdout",
     "output_type": "stream",
     "text": [
      "addition is: 12\n"
     ]
    }
   ],
   "source": [
    "def add():\n",
    "    a = int(input(\"Enter a:\"))\n",
    "    b = int(input(\"Enter b:\"))\n",
    "    print(\"addition is:\",a+b)\n",
    "add()\n",
    "    "
   ]
  },
  {
   "cell_type": "code",
   "execution_count": 10,
   "id": "fa6d14a6-b1cc-403e-b063-aa85c427e9e2",
   "metadata": {},
   "outputs": [
    {
     "name": "stdin",
     "output_type": "stream",
     "text": [
      "Enter a: 6\n",
      "Enter b: 6\n"
     ]
    },
    {
     "name": "stdout",
     "output_type": "stream",
     "text": [
      "subtraction is: 0\n"
     ]
    }
   ],
   "source": [
    "def sub():\n",
    "    a = int(input(\"Enter a:\"))\n",
    "    b = int(input(\"Enter b:\"))\n",
    "    print(\"subtraction is:\",a-b)\n",
    "sub()"
   ]
  },
  {
   "cell_type": "code",
   "execution_count": 14,
   "id": "e0eaf3b1-3b99-4795-8bd1-bd9cd4bbfbdb",
   "metadata": {},
   "outputs": [
    {
     "name": "stdin",
     "output_type": "stream",
     "text": [
      "Enter a: 6\n",
      "Enter b: 6\n"
     ]
    },
    {
     "name": "stdout",
     "output_type": "stream",
     "text": [
      "Multiple is: 36\n"
     ]
    }
   ],
   "source": [
    "def mul():\n",
    "    a = int(input(\"Enter a:\"))\n",
    "    b = int(input(\"Enter b:\"))\n",
    "    print(\"Multiple is:\",a*b)\n",
    "mul()"
   ]
  },
  {
   "cell_type": "code",
   "execution_count": 16,
   "id": "c2de196e-254b-455e-b35b-dc44e9634cb7",
   "metadata": {},
   "outputs": [
    {
     "name": "stdin",
     "output_type": "stream",
     "text": [
      "Enter a: 6\n",
      "Enter b: 6\n"
     ]
    },
    {
     "name": "stdout",
     "output_type": "stream",
     "text": [
      "Division is: 1.0\n"
     ]
    }
   ],
   "source": [
    "def div():\n",
    "    a = int(input(\"Enter a:\"))\n",
    "    b = int(input(\"Enter b:\"))\n",
    "    print(\"Division is:\",a/b)\n",
    "div()"
   ]
  },
  {
   "cell_type": "markdown",
   "id": "f7d675a6-f7df-4e33-bb23-f625c4d06531",
   "metadata": {},
   "source": [
    "# Get an integer nmber from user and pass it to the function called findoddoreven () .\n",
    "# Let the function print whether it is odd or even"
   ]
  },
  {
   "cell_type": "code",
   "execution_count": 24,
   "id": "0061685c-8131-4e91-a067-38bc685e09e1",
   "metadata": {},
   "outputs": [
    {
     "name": "stdin",
     "output_type": "stream",
     "text": [
      "Enter number: 66\n"
     ]
    },
    {
     "name": "stdout",
     "output_type": "stream",
     "text": [
      "even\n"
     ]
    }
   ],
   "source": [
    "num = int(input(\"Enter number:\"))\n",
    "def findoddoreven ():\n",
    "    if num % 2 ==0:\n",
    "        print(\"even\")\n",
    "    else:\n",
    "        print(\"odd\")\n",
    "findoddoreven()"
   ]
  },
  {
   "cell_type": "code",
   "execution_count": 26,
   "id": "ba2478dc-3d55-437d-a427-b7dd8e5baca3",
   "metadata": {},
   "outputs": [
    {
     "name": "stdout",
     "output_type": "stream",
     "text": [
      "even\n"
     ]
    }
   ],
   "source": [
    "def findoddoreven (num):\n",
    "    if num % 2 ==0:\n",
    "        print(\"even\")\n",
    "    else:\n",
    "        print(\"odd\")\n",
    "findoddoreven(66)"
   ]
  },
  {
   "cell_type": "markdown",
   "id": "02dd3b87-6ee1-4c49-9708-d9a940094b35",
   "metadata": {},
   "source": [
    "# Get an integer nmber from user and pass it to the function called findpassorfail () .\n",
    "# Let the function print whether it is odd or even"
   ]
  },
  {
   "cell_type": "code",
   "execution_count": 30,
   "id": "0345153b-05a7-46fb-be66-8ae15573b1a9",
   "metadata": {},
   "outputs": [
    {
     "name": "stdin",
     "output_type": "stream",
     "text": [
      "Enter marks 66\n"
     ]
    },
    {
     "name": "stdout",
     "output_type": "stream",
     "text": [
      "Congrats! you are pass\n"
     ]
    }
   ],
   "source": [
    "def findpassorfail(m):\n",
    "    if m >=35 :\n",
    "        print(\"Congrats! you are pass\")\n",
    "    else:\n",
    "        print(\"sorry! Better next time \")\n",
    "score = int(input(\"Enter marks\"))\n",
    "findpassorfail(score)"
   ]
  },
  {
   "cell_type": "markdown",
   "id": "5cf57147-eb8b-4ce2-82f6-4171deb9281e",
   "metadata": {},
   "source": [
    "# Get an input a and b and pass it to an function called printrange() . Let the function print numbers from a to b"
   ]
  },
  {
   "cell_type": "code",
   "execution_count": 32,
   "id": "bd846335-e952-42c6-8848-39206529ff75",
   "metadata": {},
   "outputs": [
    {
     "name": "stdin",
     "output_type": "stream",
     "text": [
      "Enter number: 6\n",
      "Enter number: 12\n"
     ]
    },
    {
     "name": "stdout",
     "output_type": "stream",
     "text": [
      "6\n",
      "7\n",
      "8\n",
      "9\n",
      "10\n",
      "11\n"
     ]
    }
   ],
   "source": [
    "def printrange():\n",
    "    a =int(input(\"Enter number:\"))\n",
    "    b= int(input(\"Enter number:\"))\n",
    "    for i in range(a,b):\n",
    "        print(i)\n",
    "printrange()"
   ]
  },
  {
   "cell_type": "code",
   "execution_count": 36,
   "id": "69456738-b899-4dc9-b506-2290d7879e34",
   "metadata": {},
   "outputs": [
    {
     "name": "stdout",
     "output_type": "stream",
     "text": [
      "1\n",
      "2\n",
      "3\n",
      "4\n",
      "5\n",
      "6\n",
      "7\n",
      "8\n",
      "9\n"
     ]
    }
   ],
   "source": [
    "def printrange(a,b):\n",
    "    for i in range(a,b):\n",
    "        print(i)\n",
    "printrange(1,10)"
   ]
  },
  {
   "cell_type": "markdown",
   "id": "29e91751-1b18-4b98-aa4a-909ea46208e3",
   "metadata": {},
   "source": [
    "# Write a function to print greeting message by taking name from user. Also use default parameter"
   ]
  },
  {
   "cell_type": "code",
   "execution_count": 86,
   "id": "339b5140-49c3-4e56-9ee1-90411f495193",
   "metadata": {},
   "outputs": [
    {
     "name": "stdin",
     "output_type": "stream",
     "text": [
      "Enter name: Nila\n"
     ]
    },
    {
     "name": "stdout",
     "output_type": "stream",
     "text": [
      "Hi Nila Hope you are doing goood :)\n"
     ]
    }
   ],
   "source": [
    "def greet(name):\n",
    "    print(\"Hi\" ,name, \"Hope you are doing goood :)\")\n",
    "name = input(\"Enter name:\")\n",
    "greet(name)"
   ]
  },
  {
   "cell_type": "code",
   "execution_count": 88,
   "id": "1c672263-3f3b-4e02-b351-1d44bd734199",
   "metadata": {},
   "outputs": [
    {
     "name": "stdout",
     "output_type": "stream",
     "text": [
      "Hi Nila Hope you are doing goood :)\n"
     ]
    }
   ],
   "source": [
    "# DEFAULT PARAMETER TAKEN FROM PREVIOUS code\n",
    "\n",
    "def greet1(name = \"xyz\"):\n",
    "    print(\"Hi\" ,name, \"Hope you are doing goood :)\")\n",
    "#name = input(\"Enter name:\")\n",
    "greet1(name)"
   ]
  },
  {
   "cell_type": "markdown",
   "id": "ca72478c-30ae-4421-a0fc-13d131f4e9b2",
   "metadata": {},
   "source": [
    "# Write a function to return maximum and minimum values from a list"
   ]
  },
  {
   "cell_type": "code",
   "execution_count": 96,
   "id": "bd54c8ed-802c-450a-8792-b7772595eb8e",
   "metadata": {},
   "outputs": [
    {
     "name": "stdout",
     "output_type": "stream",
     "text": [
      "6\n",
      "89\n"
     ]
    }
   ],
   "source": [
    "def min_max(list):\n",
    "    mn = min(list)\n",
    "    mx = max(list)\n",
    "    return mn,mx\n",
    "min_mn,max_mx = min_max([12,23,45,89,6])\n",
    "print(min_mn)\n",
    "print(max_mx)"
   ]
  },
  {
   "cell_type": "markdown",
   "id": "7b455f61-25dc-4e36-975d-4025c5ecab63",
   "metadata": {},
   "source": [
    "# Write a function to convert USD to INR"
   ]
  },
  {
   "cell_type": "code",
   "execution_count": 102,
   "id": "51637e12-c395-4170-a51d-3ae287877df7",
   "metadata": {},
   "outputs": [
    {
     "name": "stdin",
     "output_type": "stream",
     "text": [
      "Enter USD: 6\n"
     ]
    },
    {
     "data": {
      "text/plain": [
       "500.40000000000003"
      ]
     },
     "execution_count": 102,
     "metadata": {},
     "output_type": "execute_result"
    }
   ],
   "source": [
    "def usd_inr(usd):\n",
    "    return usd*83.40\n",
    "usd = int(input(\"Enter USD:\"))\n",
    "#print(usd_inr(usd))\n",
    "usd_inr(usd)"
   ]
  },
  {
   "cell_type": "markdown",
   "id": "0d1af718-faa4-42af-becc-4712b5e25cbd",
   "metadata": {},
   "source": [
    "# create a basic calculator performing operations on two numbers"
   ]
  },
  {
   "cell_type": "code",
   "execution_count": 104,
   "id": "b6989d41-a165-466f-8be7-d74911dc3142",
   "metadata": {},
   "outputs": [
    {
     "name": "stdin",
     "output_type": "stream",
     "text": [
      "Enter first number:  6\n",
      "Enter second number:  6\n",
      "Enter operation (add, subtract, multiply, divide):  divide\n"
     ]
    },
    {
     "name": "stdout",
     "output_type": "stream",
     "text": [
      "Result: 1.0\n"
     ]
    }
   ],
   "source": [
    "def calculator(num1, num2, operation):\n",
    "    if operation == 'add':\n",
    "        return num1 + num2\n",
    "    elif operation == 'subtract':\n",
    "        return num1 - num2\n",
    "    elif operation == 'multiply':\n",
    "        return num1 * num2\n",
    "    elif operation == 'divide':\n",
    "        if num2 != 0:\n",
    "            return num1 / num2\n",
    "        else:\n",
    "            return \"Error: Division by zero\"\n",
    "    else:\n",
    "        return \"Invalid operation\"\n",
    "\n",
    "# Example usage:\n",
    "a = float(input(\"Enter first number: \"))\n",
    "b = float(input(\"Enter second number: \"))\n",
    "op = input(\"Enter operation (add, subtract, multiply, divide): \")\n",
    "\n",
    "result = calculator(a, b, op)\n",
    "print(\"Result:\", result)\n"
   ]
  },
  {
   "cell_type": "markdown",
   "id": "7f0787fa-9f44-4f7c-b3a1-cd39152fb32e",
   "metadata": {},
   "source": [
    "# *ARGS AND **KWARGS:"
   ]
  },
  {
   "cell_type": "markdown",
   "id": "d6ec4bf9-54d8-41bd-80e8-98140907e938",
   "metadata": {},
   "source": [
    "* In Python, *args and **kwargs are used to pass a variable number of arguments to a function.\n",
    "* They’re useful when you don’t know in advance how many arguments will be passed."
   ]
  },
  {
   "cell_type": "markdown",
   "id": "5b3359b5-3878-4a94-8f79-d165f7ea28af",
   "metadata": {},
   "source": [
    "✅ *args (Non-keyword Arguments)\n",
    "* Stands for \"arguments\"\n",
    "\n",
    "* Collects extra positional arguments into a tuple"
   ]
  },
  {
   "cell_type": "code",
   "execution_count": 112,
   "id": "7176fef1-c07d-4260-8fbe-ae5631e87d5c",
   "metadata": {},
   "outputs": [
    {
     "name": "stdout",
     "output_type": "stream",
     "text": [
      "Hello, Aishwarya!\n",
      "Hello, Laxmi!\n"
     ]
    }
   ],
   "source": [
    "def greet(*args):\n",
    "    for name in args:\n",
    "        print(f\"Hello, {name}!\")\n",
    "\n",
    "greet(\"Aishwarya\", \"Laxmi\")\n"
   ]
  },
  {
   "cell_type": "code",
   "execution_count": 116,
   "id": "d5ca03a8-78e9-4252-9a60-c889a3a9a0d1",
   "metadata": {},
   "outputs": [
    {
     "data": {
      "text/plain": [
       "6"
      ]
     },
     "execution_count": 116,
     "metadata": {},
     "output_type": "execute_result"
    }
   ],
   "source": [
    "def add(*nums):\n",
    "    sum=0\n",
    "    for i in nums:\n",
    "        sum = sum +i\n",
    "    return sum\n",
    "add(1,2,3)"
   ]
  },
  {
   "cell_type": "markdown",
   "id": "e7064516-27fd-4257-a538-8f6529ba07dc",
   "metadata": {},
   "source": [
    "✅ **kwargs (Keyword Arguments)\n",
    "* Stands for \"keyword arguments\"\n",
    "\n",
    "* Collects extra keyword arguments into a dictionary"
   ]
  },
  {
   "cell_type": "code",
   "execution_count": 119,
   "id": "f70d5e34-386d-4bae-abbe-e3ab41b3da54",
   "metadata": {},
   "outputs": [
    {
     "name": "stdout",
     "output_type": "stream",
     "text": [
      "name: Alice\n",
      "age: 30\n",
      "country: USA\n"
     ]
    }
   ],
   "source": [
    "def introduce(**kwargs):\n",
    "    for key, value in kwargs.items():\n",
    "        print(f\"{key}: {value}\")\n",
    "\n",
    "introduce(name=\"Alice\", age=30, country=\"USA\")\n"
   ]
  },
  {
   "cell_type": "code",
   "execution_count": null,
   "id": "b10a0847-48e3-49f5-8271-2d0fe24dc0b0",
   "metadata": {},
   "outputs": [],
   "source": []
  }
 ],
 "metadata": {
  "kernelspec": {
   "display_name": "Python [conda env:base] *",
   "language": "python",
   "name": "conda-base-py"
  },
  "language_info": {
   "codemirror_mode": {
    "name": "ipython",
    "version": 3
   },
   "file_extension": ".py",
   "mimetype": "text/x-python",
   "name": "python",
   "nbconvert_exporter": "python",
   "pygments_lexer": "ipython3",
   "version": "3.12.7"
  }
 },
 "nbformat": 4,
 "nbformat_minor": 5
}
