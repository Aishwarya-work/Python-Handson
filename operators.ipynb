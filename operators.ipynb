{
 "cells": [
  {
   "cell_type": "markdown",
   "id": "9bcc4f2c-d6bc-43b8-ba71-41d18f9888b0",
   "metadata": {},
   "source": [
    "OPERATORS:\n",
    "\n",
    "used to perform operations on variables and values."
   ]
  },
  {
   "cell_type": "markdown",
   "id": "60490072-fa90-4d38-9a27-e4f8d860383b",
   "metadata": {},
   "source": [
    "1.ARITHMETIC OPERATORS:\n",
    "\n",
    "--These perform mathematical operations like addition, subtraction, multiplication, etc."
   ]
  },
  {
   "cell_type": "code",
   "execution_count": 5,
   "id": "e81939df-5570-4d90-8f04-a90a6cb522ea",
   "metadata": {},
   "outputs": [
    {
     "name": "stdout",
     "output_type": "stream",
     "text": [
      "15\n",
      "5\n",
      "50\n",
      "2.0\n",
      "0\n",
      "100000\n",
      "2\n"
     ]
    }
   ],
   "source": [
    "a = 10\n",
    "b = 5\n",
    "\n",
    "print(a + b)  # Addition: 15\n",
    "print(a - b)  # Subtraction: 5\n",
    "print(a * b)  # Multiplication: 50\n",
    "print(a / b)  # Division: 2.0 ( quotient float value)\n",
    "print(a % b)  # Modulus: 0 (Remainder)\n",
    "print(a ** b) # Exponentiation: 100000\n",
    "print(a // b) # Floor Division: 2 (quotient - integer)\n"
   ]
  },
  {
   "cell_type": "markdown",
   "id": "ebda8e46-729a-448b-bfb8-b3d7eb4ec299",
   "metadata": {},
   "source": [
    "2. Comparison Operators:\n",
    "   \n",
    "These compare two values and return a Boolean result (True or False)."
   ]
  },
  {
   "cell_type": "code",
   "execution_count": 9,
   "id": "31966047-4494-426a-aa96-4b9d5f9b5876",
   "metadata": {},
   "outputs": [
    {
     "name": "stdout",
     "output_type": "stream",
     "text": [
      "False\n",
      "True\n",
      "False\n",
      "True\n",
      "False\n",
      "True\n"
     ]
    }
   ],
   "source": [
    "x = 10\n",
    "y = 20\n",
    "\n",
    "print(x == y)  # Equal to: False\n",
    "print(x != y)  # Not equal to: True\n",
    "print(x > y)   # Greater than: False\n",
    "print(x < y)   # Less than: True\n",
    "print(x >= y)  # Greater than or equal to: False\n",
    "print(x <= y)  # Less than or equal to: True\n"
   ]
  },
  {
   "cell_type": "markdown",
   "id": "6e62c23d-44ef-47a7-b4f9-01cde80c82b6",
   "metadata": {},
   "source": [
    "3. Logical Operators:\n",
    "   \n",
    "Used to combine conditional statements."
   ]
  },
  {
   "cell_type": "code",
   "execution_count": 12,
   "id": "a31aefb5-c423-4482-8466-7ec2a40831c8",
   "metadata": {},
   "outputs": [
    {
     "name": "stdout",
     "output_type": "stream",
     "text": [
      "False\n",
      "True\n",
      "False\n"
     ]
    }
   ],
   "source": [
    "p = True\n",
    "q = False\n",
    "\n",
    "print(p and q)  # Logical AND: False\n",
    "print(p or q)   # Logical OR: True\n",
    "print(not p)    # Logical NOT: False\n"
   ]
  },
  {
   "cell_type": "markdown",
   "id": "87b7d72b-5f0d-4283-9ec2-7d5b314db8b2",
   "metadata": {},
   "source": [
    "4. Bitwise Operators:\n",
    "\n",
    "These operate on binary numbers."
   ]
  },
  {
   "cell_type": "code",
   "execution_count": 15,
   "id": "734b6eb0-69f1-42e3-ae8f-6675e9f4a4db",
   "metadata": {},
   "outputs": [
    {
     "name": "stdout",
     "output_type": "stream",
     "text": [
      "1\n",
      "7\n",
      "6\n",
      "-6\n",
      "10\n",
      "2\n"
     ]
    }
   ],
   "source": [
    "a = 5  # 0101\n",
    "b = 3  # 0011\n",
    "\n",
    "print(a & b)  # Bitwise AND: 1\n",
    "print(a | b)  # Bitwise OR: 7\n",
    "print(a ^ b)  # Bitwise XOR: 6\n",
    "print(~a)     # Bitwise NOT: -6\n",
    "print(a << 1) # Left shift: 10\n",
    "print(a >> 1) # Right shift: 2\n"
   ]
  },
  {
   "cell_type": "markdown",
   "id": "41c1b15c-e8e7-4587-a5c3-02d9c3662aa3",
   "metadata": {},
   "source": [
    "5. Assignment Operators:\n",
    "\n",
    "Used to assign values to variables."
   ]
  },
  {
   "cell_type": "code",
   "execution_count": 30,
   "id": "cc16d65d-f7d3-4b6b-a811-76931d0d1a76",
   "metadata": {},
   "outputs": [
    {
     "name": "stdout",
     "output_type": "stream",
     "text": [
      "15\n",
      "12\n",
      "24\n",
      "6.0\n"
     ]
    }
   ],
   "source": [
    "x = 10\n",
    "x += 5  # x = x + 5 → 15\n",
    "print(x)\n",
    "x -= 3  # x = x - 3 → 12\n",
    "print(x)\n",
    "x *= 2  # x = x * 2 → 24\n",
    "print(x)\n",
    "x /= 4  # x = x / 4 → 6.0\n",
    "print(x)\n"
   ]
  },
  {
   "cell_type": "markdown",
   "id": "bc47e896-ec89-461a-998e-1bb8538767e6",
   "metadata": {},
   "source": [
    "6. Membership Operators:\n",
    "\n",
    "Check if a value exists in a sequence."
   ]
  },
  {
   "cell_type": "code",
   "execution_count": 37,
   "id": "b4799147-cbe9-4928-9449-b41518a910ca",
   "metadata": {},
   "outputs": [
    {
     "name": "stdout",
     "output_type": "stream",
     "text": [
      "True\n",
      "True\n",
      "False\n"
     ]
    }
   ],
   "source": [
    "my_list = [1,2,3,4,5]\n",
    "print( 4 in my_list) #value found\n",
    "print( 12 not in my_list) # value not found\n",
    "print( 12  in my_list) \n"
   ]
  },
  {
   "cell_type": "markdown",
   "id": "6130b3ea-2b03-4e3f-a729-ddeeb7b7609b",
   "metadata": {},
   "source": [
    "7. Identity Operators:\n",
    "\n",
    "* Check if two variables point to the same object.\n",
    "* compares memory location of two objects."
   ]
  },
  {
   "cell_type": "code",
   "execution_count": 43,
   "id": "8e00c64e-5e15-4395-8f4e-c323aa56f399",
   "metadata": {},
   "outputs": [
    {
     "name": "stdout",
     "output_type": "stream",
     "text": [
      "True\n",
      "True\n",
      "False\n"
     ]
    }
   ],
   "source": [
    "x = [1, 2, 3]\n",
    "y = x\n",
    "z = [1, 2, 3]\n",
    "\n",
    "print(x is y)  # True (same object)\n",
    "print(x is not z)  # True (different objects)\n",
    "print(x is z)"
   ]
  },
  {
   "cell_type": "markdown",
   "id": "15adfe48-adb2-485f-ab52-fddeae11500a",
   "metadata": {},
   "source": [
    "8.Ternary operator:\n",
    "\n",
    "* simple way of writing if-else statement in single line.\n",
    "\n",
    "-->  result = value_if_true if condition else value_if_false\n"
   ]
  },
  {
   "cell_type": "code",
   "execution_count": 47,
   "id": "1d865142-02fb-4902-b257-816d92020c32",
   "metadata": {},
   "outputs": [
    {
     "name": "stdout",
     "output_type": "stream",
     "text": [
      "Adult\n"
     ]
    }
   ],
   "source": [
    "age = 20\n",
    "status = \"Adult\" if age >=18 else \"minor\"\n",
    "print(status)"
   ]
  },
  {
   "cell_type": "code",
   "execution_count": null,
   "id": "c6f478c1-ef49-46af-bee1-21f2570e81c4",
   "metadata": {},
   "outputs": [],
   "source": []
  }
 ],
 "metadata": {
  "kernelspec": {
   "display_name": "Python [conda env:base] *",
   "language": "python",
   "name": "conda-base-py"
  },
  "language_info": {
   "codemirror_mode": {
    "name": "ipython",
    "version": 3
   },
   "file_extension": ".py",
   "mimetype": "text/x-python",
   "name": "python",
   "nbconvert_exporter": "python",
   "pygments_lexer": "ipython3",
   "version": "3.12.7"
  }
 },
 "nbformat": 4,
 "nbformat_minor": 5
}
