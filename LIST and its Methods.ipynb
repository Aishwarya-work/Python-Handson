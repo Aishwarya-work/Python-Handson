{
 "cells": [
  {
   "cell_type": "markdown",
   "id": "36a1df8a-2637-48fe-b21d-838d8c71665c",
   "metadata": {},
   "source": [
    "LISTS:\n",
    "\n",
    "* It allows to store set of values in signle variable.\n",
    "* ordered , Mutable , Indexing"
   ]
  },
  {
   "cell_type": "code",
   "execution_count": null,
   "id": "c3751e77-512a-4c40-a116-87aad249cde9",
   "metadata": {},
   "outputs": [],
   "source": [
    "#EMPTY LIST\n",
    "empty_list = []\n",
    "print(empty_list)\n",
    "# CREATE LIST \n",
    "Lst = [1,2,3,4.5,\"Hi\"]\n",
    "print(Lst)\n",
    "#ACCESS ELEMENTS\n",
    "print(Lst[0])\n",
    "#ADD ELEMENTS\n",
    "Lst.append(6)\n",
    "print(Lst)\n",
    "#MODIFY LIST\n",
    "Lst[3] = \"Hello\"\n",
    "print(Lst)\n",
    "#REMOVE ELEMENTS\n",
    "Lst.remove(2)\n",
    "print(Lst)\n",
    "#SLICING\n",
    "print(Lst[1:4])\n",
    "#LENGTH\n",
    "print(len(Lst))"
   ]
  },
  {
   "cell_type": "markdown",
   "id": "085dff18-7913-4d35-b3a0-b5ebfedb004e",
   "metadata": {},
   "source": [
    "LIST METHODS:"
   ]
  },
  {
   "cell_type": "markdown",
   "id": "46980e46-53de-467e-988d-de3c73bcbcf5",
   "metadata": {},
   "source": [
    "1. APPEND:\n",
    "\n",
    "   Addds an element at the end of the list "
   ]
  },
  {
   "cell_type": "code",
   "execution_count": 22,
   "id": "7356215b-f7b9-4a98-87b3-361bbbbbd409",
   "metadata": {},
   "outputs": [
    {
     "name": "stdout",
     "output_type": "stream",
     "text": [
      "[12, 23, 34, 45, 56]\n"
     ]
    }
   ],
   "source": [
    "my_lt = [12,23,34,45]\n",
    "my_lt.append(56)\n",
    "print(my_lt)"
   ]
  },
  {
   "cell_type": "markdown",
   "id": "0f81215d-e08b-4a4d-bf48-066ae9d4766c",
   "metadata": {},
   "source": [
    "2. EXTEND(ITERABLE):\n",
    "\n",
    "   * used to add all elements from an iterable (list,tuple,set or string ) to the end of an existing list.\n",
    "   * It extends the list by appending each item."
   ]
  },
  {
   "cell_type": "code",
   "execution_count": 25,
   "id": "37183f70-f1c4-466b-a3c9-12c7a41d365d",
   "metadata": {},
   "outputs": [
    {
     "name": "stdout",
     "output_type": "stream",
     "text": [
      "[1, 2, 3, 4, 5]\n"
     ]
    }
   ],
   "source": [
    "# LIST WITH ANOTHER LIST:\n",
    "\n",
    "lst1 = [1,2,3]\n",
    "lst1.extend([4,5])\n",
    "print(lst1)"
   ]
  },
  {
   "cell_type": "code",
   "execution_count": 27,
   "id": "d287558c-9f03-4589-8291-31e49437d7cc",
   "metadata": {},
   "outputs": [
    {
     "name": "stdout",
     "output_type": "stream",
     "text": [
      "[1, 2, 3, 4, 5, 6]\n"
     ]
    }
   ],
   "source": [
    "#LIST WITH TUPLE:\n",
    "lst1 = [1,2,3]\n",
    "lst1.extend((4,5,6))\n",
    "print(lst1)"
   ]
  },
  {
   "cell_type": "code",
   "execution_count": 29,
   "id": "0d4a6c9f-0df9-4e68-b7dd-37536888b015",
   "metadata": {},
   "outputs": [
    {
     "name": "stdout",
     "output_type": "stream",
     "text": [
      "[1, 2, 3, 'A', 'B', 'C']\n"
     ]
    }
   ],
   "source": [
    "#LIST WITH STRING \n",
    "lst1 = [1,2,3]\n",
    "lst1.extend(\"ABC\")   # only one argument\n",
    "print(lst1)"
   ]
  },
  {
   "cell_type": "code",
   "execution_count": 37,
   "id": "166ffec9-5c33-4cbb-9fad-adc735d64246",
   "metadata": {},
   "outputs": [
    {
     "name": "stdout",
     "output_type": "stream",
     "text": [
      "[1, 2, 3, 4, 5]\n",
      "[1, 2, 3, 4, 5, '4,5']\n",
      "[1, 2, 3, 4, 5, '4,5', 'abc']\n",
      "[1, 2, 3, 4, 5, '4,5', 'abc', 'a', 'abc']\n"
     ]
    }
   ],
   "source": [
    "#LIST WITH SET\n",
    "lst1 = [1,2,3]\n",
    "lst1.extend({4,5}) \n",
    "print(lst1)\n",
    "lst1.extend({\"4,5\"})\n",
    "print(lst1)\n",
    "lst1.extend({\"abc\"})\n",
    "print(lst1)\n",
    "lst1.extend({\"abc\",\"a\"})\n",
    "print(lst1)"
   ]
  },
  {
   "cell_type": "markdown",
   "id": "d3c2e2ff-4551-468d-9aff-7eabf9b70682",
   "metadata": {},
   "source": [
    "DIFFERENCE: \n",
    "\n",
    "* APPEND -- To add an elemet(even a list ) as a single element\n",
    "* EXTEND -- To add multiple items from an iterable individually"
   ]
  },
  {
   "cell_type": "markdown",
   "id": "b12114a1-2f1c-4636-8bfa-12c26b487271",
   "metadata": {},
   "source": [
    "3. INSERT(index,item) -- > insert at the specific position"
   ]
  },
  {
   "cell_type": "code",
   "execution_count": 43,
   "id": "f3461e55-6ec0-4d74-99a1-d2ab59286715",
   "metadata": {},
   "outputs": [
    {
     "name": "stdout",
     "output_type": "stream",
     "text": [
      "[1, 2, 3, 4]\n"
     ]
    }
   ],
   "source": [
    "lst2 = [1,2,4]\n",
    "lst2.insert(2,3)\n",
    "print(lst2)"
   ]
  },
  {
   "cell_type": "markdown",
   "id": "ca667c8f-1e30-4dac-b068-b1e7c6b42e19",
   "metadata": {},
   "source": [
    "4. REMOVE(ITEM) --> remove the 1st occurence of specified item"
   ]
  },
  {
   "cell_type": "code",
   "execution_count": 47,
   "id": "b685051c-07ba-4577-9b53-363be44f1a01",
   "metadata": {},
   "outputs": [
    {
     "name": "stdout",
     "output_type": "stream",
     "text": [
      "[1, 2, 4]\n"
     ]
    }
   ],
   "source": [
    "lst3 = [1,2,3,4]\n",
    "lst3.remove(3)\n",
    "print(lst3)"
   ]
  },
  {
   "cell_type": "markdown",
   "id": "035a8799-47ea-4b26-a35a-5fec4ee429cd",
   "metadata": {},
   "source": [
    "5. POP(INDEX) :\n",
    "\n",
    "   * Removes and returns the item at the specified index from a list.\n",
    "   * if no index specified , it removes and returns the last element by default  { index = -1}\n",
    "   * SYNTAX: LIST.POP(INDEX)"
   ]
  },
  {
   "cell_type": "code",
   "execution_count": 50,
   "id": "6109ee96-304e-4e46-bf3c-4c2aba4c7989",
   "metadata": {},
   "outputs": [
    {
     "name": "stdout",
     "output_type": "stream",
     "text": [
      "30\n",
      "[10, 20, 40]\n"
     ]
    }
   ],
   "source": [
    "#REMOVE AND RETURN AN ITEM BY INDEX:\n",
    "lst4 = [10,20,30,40]\n",
    "item = lst4.pop(2)\n",
    "print(item)\n",
    "print(lst4)"
   ]
  },
  {
   "cell_type": "code",
   "execution_count": 52,
   "id": "4939b1ae-020a-4f3e-a8e6-bfdcd48d0c0d",
   "metadata": {},
   "outputs": [
    {
     "name": "stdout",
     "output_type": "stream",
     "text": [
      "40\n",
      "[10, 20, 30]\n"
     ]
    }
   ],
   "source": [
    "# REMOVE AND RETURN LAST ELEMENT [DEFAULT BEHAVIOUR]\n",
    "lst4 = [10,20,30,40]\n",
    "item = lst4.pop()\n",
    "print(item)\n",
    "print(lst4)"
   ]
  },
  {
   "cell_type": "code",
   "execution_count": 56,
   "id": "5ecf5b38-584f-4fb2-a601-d06182c5be79",
   "metadata": {},
   "outputs": [
    {
     "ename": "IndexError",
     "evalue": "pop index out of range",
     "output_type": "error",
     "traceback": [
      "\u001b[1;31m---------------------------------------------------------------------------\u001b[0m",
      "\u001b[1;31mIndexError\u001b[0m                                Traceback (most recent call last)",
      "Cell \u001b[1;32mIn[56], line 3\u001b[0m\n\u001b[0;32m      1\u001b[0m \u001b[38;5;66;03m#OUT OF RANGE \u001b[39;00m\n\u001b[0;32m      2\u001b[0m lst4 \u001b[38;5;241m=\u001b[39m [\u001b[38;5;241m10\u001b[39m,\u001b[38;5;241m20\u001b[39m,\u001b[38;5;241m30\u001b[39m,\u001b[38;5;241m40\u001b[39m]\n\u001b[1;32m----> 3\u001b[0m item \u001b[38;5;241m=\u001b[39m lst4\u001b[38;5;241m.\u001b[39mpop(\u001b[38;5;241m6\u001b[39m)   \u001b[38;5;66;03m#INDEX ERROR\u001b[39;00m\n\u001b[0;32m      4\u001b[0m \u001b[38;5;28mprint\u001b[39m(item)\n\u001b[0;32m      5\u001b[0m \u001b[38;5;28mprint\u001b[39m(lst4)\n",
      "\u001b[1;31mIndexError\u001b[0m: pop index out of range"
     ]
    }
   ],
   "source": [
    "#OUT OF RANGE \n",
    "lst4 = [10,20,30,40]\n",
    "item = lst4.pop(6)   #INDEX ERROR\n",
    "print(item)\n",
    "print(lst4)"
   ]
  },
  {
   "cell_type": "markdown",
   "id": "2796666f-1252-41c4-8555-c4db1179628a",
   "metadata": {},
   "source": [
    "6. CLEAR - Remove all items from the list "
   ]
  },
  {
   "cell_type": "code",
   "execution_count": 59,
   "id": "21eaa3f9-20ad-41da-9b32-e5a3afe73ef3",
   "metadata": {},
   "outputs": [
    {
     "name": "stdout",
     "output_type": "stream",
     "text": [
      "[]\n"
     ]
    }
   ],
   "source": [
    "lst5 = [2,3,4]\n",
    "lst5.clear()\n",
    "print(lst5)"
   ]
  },
  {
   "cell_type": "markdown",
   "id": "8477ae5d-021b-41ba-997a-1ae80bf1df6d",
   "metadata": {},
   "source": [
    "7. INDEX(ITEM) :\n",
    "   \n",
    "  * used to find the 1st occurence of a specified item in a list\n",
    "  * if not found , it raises VALUE ERROR\n",
    "  * LIST.INDEX(item,start,end)\n",
    "    "
   ]
  },
  {
   "cell_type": "code",
   "execution_count": 67,
   "id": "529f2e40-7a58-4f82-ade1-02828a936bff",
   "metadata": {},
   "outputs": [
    {
     "name": "stdout",
     "output_type": "stream",
     "text": [
      "2\n"
     ]
    }
   ],
   "source": [
    "# 1.\n",
    "lst6 = [10,20,30,40]\n",
    "idx = lst6.index(30)\n",
    "print(idx)"
   ]
  },
  {
   "cell_type": "code",
   "execution_count": 75,
   "id": "8d85431e-118a-4306-aa56-4b09d19c510e",
   "metadata": {},
   "outputs": [
    {
     "name": "stdout",
     "output_type": "stream",
     "text": [
      "2\n"
     ]
    }
   ],
   "source": [
    "#START AND END \n",
    "lst7 = [10,20,30,40,50]\n",
    "idx = lst7.index(30,0,4)\n",
    "print(idx)"
   ]
  },
  {
   "cell_type": "code",
   "execution_count": 77,
   "id": "46c69c90-ac4a-4dbe-8ed9-7a6cf83dcfe3",
   "metadata": {},
   "outputs": [
    {
     "ename": "ValueError",
     "evalue": "60 is not in list",
     "output_type": "error",
     "traceback": [
      "\u001b[1;31m---------------------------------------------------------------------------\u001b[0m",
      "\u001b[1;31mValueError\u001b[0m                                Traceback (most recent call last)",
      "Cell \u001b[1;32mIn[77], line 3\u001b[0m\n\u001b[0;32m      1\u001b[0m \u001b[38;5;66;03m#START AND END \u001b[39;00m\n\u001b[0;32m      2\u001b[0m lst7 \u001b[38;5;241m=\u001b[39m [\u001b[38;5;241m10\u001b[39m,\u001b[38;5;241m20\u001b[39m,\u001b[38;5;241m30\u001b[39m,\u001b[38;5;241m40\u001b[39m,\u001b[38;5;241m50\u001b[39m]\n\u001b[1;32m----> 3\u001b[0m idx \u001b[38;5;241m=\u001b[39m lst7\u001b[38;5;241m.\u001b[39mindex(\u001b[38;5;241m60\u001b[39m)\n\u001b[0;32m      4\u001b[0m \u001b[38;5;28mprint\u001b[39m(idx)\n",
      "\u001b[1;31mValueError\u001b[0m: 60 is not in list"
     ]
    }
   ],
   "source": [
    "#START AND END \n",
    "lst7 = [10,20,30,40,50]\n",
    "idx = lst7.index(60)\n",
    "print(idx)"
   ]
  },
  {
   "cell_type": "markdown",
   "id": "dfaf41b6-cda4-48fe-913c-c8ec59629f53",
   "metadata": {},
   "source": [
    "8. COUNT (ITEM) -- > count the occurence of all item "
   ]
  },
  {
   "cell_type": "code",
   "execution_count": 84,
   "id": "3601953a-2fb2-4bb7-a800-0a076e02ffb0",
   "metadata": {},
   "outputs": [
    {
     "name": "stdout",
     "output_type": "stream",
     "text": [
      "1\n",
      "0\n"
     ]
    }
   ],
   "source": [
    "lst7 = [10,20,30,40,50]\n",
    "print(lst7.count(40))\n",
    "print(lst7.count(70))"
   ]
  },
  {
   "cell_type": "markdown",
   "id": "53c1b2d4-5c10-4fbe-b766-5d5a004cd2be",
   "metadata": {},
   "source": [
    "9. SORT() --> sort the list in ascending order"
   ]
  },
  {
   "cell_type": "code",
   "execution_count": 92,
   "id": "7faef444-c895-42b1-b675-553e3924bb94",
   "metadata": {},
   "outputs": [
    {
     "name": "stdout",
     "output_type": "stream",
     "text": [
      "None\n",
      "[0, 3, 4, 4, 6, 7]\n",
      "None\n",
      "[7, 6, 4, 4, 3, 0]\n"
     ]
    }
   ],
   "source": [
    "lst8 = [4,6,3,4,7,0]\n",
    "print(lst8.sort())\n",
    "print(lst8)\n",
    "\n",
    "#DESCENDING\n",
    "print(lst8.sort(reverse = True))\n",
    "print(lst8)"
   ]
  },
  {
   "cell_type": "markdown",
   "id": "366653c8-1803-40ab-839e-400bccc4863c",
   "metadata": {},
   "source": [
    "10. REVERSE() -- >REVERSE THE ORDER OF THE LIST"
   ]
  },
  {
   "cell_type": "code",
   "execution_count": 97,
   "id": "2ab73b17-3f22-4b77-90d2-2d30d329b115",
   "metadata": {},
   "outputs": [
    {
     "name": "stdout",
     "output_type": "stream",
     "text": [
      "None\n",
      "[0, 7, 4, 3, 6, 4]\n"
     ]
    }
   ],
   "source": [
    "lst9= [4,6,3,4,7,0]\n",
    "print(lst9.reverse())\n",
    "print(lst9)"
   ]
  },
  {
   "cell_type": "markdown",
   "id": "f59b1595-ca28-4e68-9412-5bd4e937fcb6",
   "metadata": {},
   "source": [
    "11.COPY() --> Returns the shallow copy of the list"
   ]
  },
  {
   "cell_type": "code",
   "execution_count": 104,
   "id": "9411270e-d2cf-4cfe-b6a6-aeb372203560",
   "metadata": {},
   "outputs": [
    {
     "name": "stdout",
     "output_type": "stream",
     "text": [
      "[1, 2, 3]\n"
     ]
    }
   ],
   "source": [
    "lt = [1,2,3]\n",
    "lt1=lt.copy()\n",
    "print(lt1)"
   ]
  },
  {
   "cell_type": "markdown",
   "id": "d2d3ac2b-c21d-4a4b-9309-7ca20c5046db",
   "metadata": {},
   "source": [
    "DIFFERENCE:\n",
    "\n",
    "* SORT() -- IT CHANGES HE ORIGINAL LIST\n",
    "* SORTED -- IT DOES NOT CHANGE ORIGINAL LIST, IT WILL SORT THE LIST TEMPORARIL"
   ]
  },
  {
   "cell_type": "code",
   "execution_count": null,
   "id": "f2a56e4b-77f8-46ca-9d8f-74ca461f8a3c",
   "metadata": {},
   "outputs": [],
   "source": []
  }
 ],
 "metadata": {
  "kernelspec": {
   "display_name": "Python [conda env:base] *",
   "language": "python",
   "name": "conda-base-py"
  },
  "language_info": {
   "codemirror_mode": {
    "name": "ipython",
    "version": 3
   },
   "file_extension": ".py",
   "mimetype": "text/x-python",
   "name": "python",
   "nbconvert_exporter": "python",
   "pygments_lexer": "ipython3",
   "version": "3.12.7"
  }
 },
 "nbformat": 4,
 "nbformat_minor": 5
}
