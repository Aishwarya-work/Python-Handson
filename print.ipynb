{
 "cells": [
  {
   "cell_type": "markdown",
   "id": "63c83222-8b00-4f36-a680-86fdbd7d6210",
   "metadata": {},
   "source": [
    "To print something .\n",
    "Used to display the text or output on the screen\n",
    "\n",
    "SYNTAX: print(objects,sep=' ',end='\\n')"
   ]
  },
  {
   "cell_type": "code",
   "execution_count": 1,
   "id": "84f13afd-f2ad-4e9e-b8f1-1cec9ed6372f",
   "metadata": {},
   "outputs": [
    {
     "name": "stdout",
     "output_type": "stream",
     "text": [
      "Hello\n"
     ]
    }
   ],
   "source": [
    "print(\"Hello\")"
   ]
  },
  {
   "cell_type": "code",
   "execution_count": 3,
   "id": "ef5a35e2-db16-47c1-a1d0-2ea16e4ac05c",
   "metadata": {},
   "outputs": [
    {
     "name": "stdout",
     "output_type": "stream",
     "text": [
      "Hello world!\n"
     ]
    }
   ],
   "source": [
    "print(\"Hello\",\"world!\")"
   ]
  },
  {
   "cell_type": "code",
   "execution_count": 7,
   "id": "9b8f95a7-d920-4342-9ca1-00f9b9e76699",
   "metadata": {},
   "outputs": [
    {
     "name": "stdout",
     "output_type": "stream",
     "text": [
      "Hello*world!\n"
     ]
    }
   ],
   "source": [
    "print(\"Hello\",\"world!\",sep = \"*\")"
   ]
  },
  {
   "cell_type": "code",
   "execution_count": null,
   "id": "ed1fdc5f-d1c3-42c3-abcc-abbbfbb5149a",
   "metadata": {},
   "outputs": [],
   "source": [
    "print(\"Hello\",\"world!\",sep = \"\")\n",
    "print(\"Have a great day\")"
   ]
  }
 ],
 "metadata": {
  "kernelspec": {
   "display_name": "Python [conda env:base] *",
   "language": "python",
   "name": "conda-base-py"
  },
  "language_info": {
   "codemirror_mode": {
    "name": "ipython",
    "version": 3
   },
   "file_extension": ".py",
   "mimetype": "text/x-python",
   "name": "python",
   "nbconvert_exporter": "python",
   "pygments_lexer": "ipython3",
   "version": "3.12.7"
  }
 },
 "nbformat": 4,
 "nbformat_minor": 5
}
