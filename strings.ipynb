{
 "cells": [
  {
   "cell_type": "markdown",
   "id": "ad5c0eac-73a7-4bb0-88b5-d15bc7376e63",
   "metadata": {},
   "source": [
    "DEFINING STRING"
   ]
  },
  {
   "cell_type": "code",
   "execution_count": 6,
   "id": "27a9a0ce-bf48-439b-9cd0-568856b255ec",
   "metadata": {},
   "outputs": [
    {
     "name": "stdout",
     "output_type": "stream",
     "text": [
      "DEFINING STRING\n",
      "DEFINING STRING\n",
      "DEFINING STRING\n"
     ]
    }
   ],
   "source": [
    "#SINGLE QUOTES\n",
    "print('DEFINING STRING')\n",
    "#DOUBLE QUOTES\n",
    "print(\"DEFINING STRING\")\n",
    "#TRIPLE QUOTES\n",
    "print('''DEFINING STRING''')"
   ]
  },
  {
   "cell_type": "markdown",
   "id": "972a59b4-e6c0-475c-88e7-5d26c47d493b",
   "metadata": {},
   "source": [
    "USING QUOTES INSIDE STRING:"
   ]
  },
  {
   "cell_type": "code",
   "execution_count": 13,
   "id": "35063d8d-6ea3-4f29-aadb-f3ddb07bacce",
   "metadata": {},
   "outputs": [
    {
     "name": "stdout",
     "output_type": "stream",
     "text": [
      "It's a beautiful life\n"
     ]
    }
   ],
   "source": [
    "string1 = \"It's a beautiful life\"\n",
    "print(string1)"
   ]
  },
  {
   "cell_type": "code",
   "execution_count": 15,
   "id": "e2ac27af-53cd-4b6b-8b5e-e61e30568c9e",
   "metadata": {},
   "outputs": [
    {
     "name": "stdout",
     "output_type": "stream",
     "text": [
      "I said ,\"Hi!\"\n"
     ]
    }
   ],
   "source": [
    "string2 = 'I said ,\"Hi!\"'\n",
    "print(string2)\n"
   ]
  },
  {
   "cell_type": "markdown",
   "id": "1726fa57-0234-4883-a76b-dbccc2052697",
   "metadata": {},
   "source": [
    "USING ESCAPE SEQUENCE:"
   ]
  },
  {
   "cell_type": "code",
   "execution_count": 18,
   "id": "0c10092c-495d-4058-9474-4a1d57416bb3",
   "metadata": {},
   "outputs": [
    {
     "name": "stdout",
     "output_type": "stream",
     "text": [
      "It's a beautiful life\n"
     ]
    }
   ],
   "source": [
    "string1 = \"It\\'s a beautiful life\"\n",
    "print(string1)"
   ]
  },
  {
   "cell_type": "code",
   "execution_count": 22,
   "id": "9ddfdcec-b27b-4073-a04b-9cc7d853fd81",
   "metadata": {},
   "outputs": [
    {
     "name": "stdout",
     "output_type": "stream",
     "text": [
      "I said ,\"Hi!\"\n"
     ]
    }
   ],
   "source": [
    "string2 = 'I said ,\\\"Hi!\\\"'\n",
    "print(string2)"
   ]
  },
  {
   "cell_type": "markdown",
   "id": "58258fac-763f-4b97-b378-0e990cd3abd5",
   "metadata": {},
   "source": [
    "BASIC OPERATIONS ON STRING:"
   ]
  },
  {
   "cell_type": "markdown",
   "id": "0eb23bde-4a0a-478d-927b-23bfa4ce1a81",
   "metadata": {},
   "source": [
    "1. CONCATENATION:"
   ]
  },
  {
   "cell_type": "code",
   "execution_count": 32,
   "id": "c401aa82-543b-4442-82ef-19df6f64d46a",
   "metadata": {},
   "outputs": [
    {
     "name": "stdout",
     "output_type": "stream",
     "text": [
      "concatenating strings \n"
     ]
    }
   ],
   "source": [
    "str1 = \"concatenating \"\n",
    "str2 = \"strings \"\n",
    "con_str = str1 + \"\" +str2\n",
    "print(con_str)"
   ]
  },
  {
   "cell_type": "markdown",
   "id": "ed508a61-07b2-4d91-992a-90cd4efe440b",
   "metadata": {},
   "source": [
    "2. LENGTH: "
   ]
  },
  {
   "cell_type": "code",
   "execution_count": 37,
   "id": "2963ed55-5a5e-4dc5-93bb-a556977c99c8",
   "metadata": {},
   "outputs": [
    {
     "name": "stdout",
     "output_type": "stream",
     "text": [
      "10\n"
     ]
    }
   ],
   "source": [
    "print( len(\"I am happy\"))"
   ]
  },
  {
   "cell_type": "markdown",
   "id": "748c7e95-8dab-4ed7-ac4c-9108d124f677",
   "metadata": {},
   "source": [
    "3.INDEXING:\n",
    "\n",
    "1.It allows to access characters in a string by their position.\n",
    "\n",
    "2.positive indexing -- 0 to n-1\n",
    "\n",
    "3.negative indexing -- go backwards from -1"
   ]
  },
  {
   "cell_type": "code",
   "execution_count": 3,
   "id": "be6867f5-1f0f-4128-a7aa-c2c7858a4f71",
   "metadata": {},
   "outputs": [
    {
     "name": "stdout",
     "output_type": "stream",
     "text": [
      "python\n",
      "python\n",
      "pyth\n",
      "t\n",
      "o\n",
      "python\n"
     ]
    }
   ],
   "source": [
    "str = \"python\"\n",
    "print(str)\n",
    "print(str[0:8])\n",
    "print(str[0:4])\n",
    "print(str[2])\n",
    "print(str[-2])\n",
    "print(str[0:6])   "
   ]
  },
  {
   "cell_type": "markdown",
   "id": "9e8a0eb2-43a6-42de-a205-560db6963e51",
   "metadata": {},
   "source": [
    "4.SLICING :\n",
    "\n",
    "* It allows to extract substring from a string by specifying a range of indices\n",
    "\n",
    "* SYNTAX - [START : END : STEP ]\n",
    "\n",
    "* start index , end index , step - interval between indices"
   ]
  },
  {
   "cell_type": "code",
   "execution_count": 17,
   "id": "c4ffc0c0-549d-4eda-a91c-01ede8d96c56",
   "metadata": {},
   "outputs": [
    {
     "name": "stdout",
     "output_type": "stream",
     "text": [
      "PYTHON\n",
      "PROGRAMMING\n",
      "PROGRAMMING\n",
      "PYTHON \n",
      " PROGRAMMING\n"
     ]
    }
   ],
   "source": [
    "# POSITIVE INDEXING:\n",
    "S= \"PYTHON PROGRAMMING\"\n",
    "print(S[0:6])\n",
    "print(S[7:18])\n",
    "print(S[7:])\n",
    "print(S[:7])\n",
    "print(S[6:18])"
   ]
  },
  {
   "cell_type": "code",
   "execution_count": 37,
   "id": "be53655e-85ec-4d29-8bad-1de141d38be7",
   "metadata": {},
   "outputs": [
    {
     "name": "stdout",
     "output_type": "stream",
     "text": [
      "PYTHON\n",
      "PYTHON\n",
      "PROGRAMMING\n",
      "RAM\n"
     ]
    }
   ],
   "source": [
    "#NEGATIVE INDEXING \n",
    "S= \"PYTHON PROGRAMMING\"\n",
    "print(S[0:-12])\n",
    "print(S[-18:-12])\n",
    "print(S[-11:])\n",
    "print(S[-7:-4])"
   ]
  },
  {
   "cell_type": "code",
   "execution_count": 47,
   "id": "7696579f-ee50-4be5-9aa1-90be8e5977e5",
   "metadata": {},
   "outputs": [
    {
     "name": "stdout",
     "output_type": "stream",
     "text": [
      "PTO RGAMN\n",
      "PTO RGAMN\n",
      "PH OAI\n",
      "GMRRNT\n",
      "OP\n"
     ]
    }
   ],
   "source": [
    "#STEP INDEX \n",
    "print(S[0:18:2]) \n",
    "print(S[::2]) #start to end every 2nd character\n",
    "print(S[::3])\n",
    "print(S[::-3])\n",
    "print(S[4:8:3])"
   ]
  },
  {
   "cell_type": "code",
   "execution_count": 53,
   "id": "dd8d6f1f-9257-422f-9a7e-886564a65aec",
   "metadata": {},
   "outputs": [
    {
     "name": "stdout",
     "output_type": "stream",
     "text": [
      "GNIMMARGORP NOHTYP\n",
      "GNIMMARGORP NOHTY\n"
     ]
    }
   ],
   "source": [
    "#IMPORTANT -- REVERSING A STRING:\n",
    "print(S[::-1])\n",
    "print(S[18:0:-1])"
   ]
  },
  {
   "cell_type": "code",
   "execution_count": 63,
   "id": "0134f782-ace8-4319-8136-60313091a4f3",
   "metadata": {},
   "outputs": [
    {
     "name": "stdout",
     "output_type": "stream",
     "text": [
      "self learning\n",
      " learning\n",
      "self l\n",
      "self learning\n",
      "sl erig\n"
     ]
    }
   ],
   "source": [
    "#SLICING WITH START AND END INDICES\n",
    "a = \"self learning\"\n",
    "print(a[:]) #whole string\n",
    "print(a[4:]) # index 4 to end \n",
    "print(a[:6 ]) # from start to 6\n",
    "print(a[::1]) #every char\n",
    "print(a[::2]) #every 2nd char"
   ]
  },
  {
   "cell_type": "code",
   "execution_count": 81,
   "id": "e2c70dca-2169-497f-8fe2-2f4d0cdec1b5",
   "metadata": {},
   "outputs": [
    {
     "name": "stdout",
     "output_type": "stream",
     "text": [
      "GNIMMARGORP NOHTY\n"
     ]
    }
   ],
   "source": [
    "S= \"PYTHON PROGRAMMING\"\n",
    "print(S[18:0:-1])"
   ]
  },
  {
   "cell_type": "code",
   "execution_count": 87,
   "id": "64208e92-5db0-40b2-b664-3c56af2d1a18",
   "metadata": {},
   "outputs": [
    {
     "name": "stdout",
     "output_type": "stream",
     "text": [
      "ATAD\n"
     ]
    }
   ],
   "source": [
    "#REVERSING A SLICE \n",
    "\n",
    "d = \"DATA SCIENCE\"\n",
    "print (d[0:4][::-1])"
   ]
  },
  {
   "cell_type": "markdown",
   "id": "5e599c83-df35-4766-8398-f960600b1aef",
   "metadata": {},
   "source": [
    "STRING OPERATIONS:"
   ]
  },
  {
   "cell_type": "raw",
   "id": "14d554ea-0c6a-4e5b-b0d0-bf5011255632",
   "metadata": {},
   "source": [
    "1. endswith ():"
   ]
  },
  {
   "cell_type": "code",
   "execution_count": 104,
   "id": "cec81259-eaee-4366-ba9d-d8bd4610b8ae",
   "metadata": {},
   "outputs": [
    {
     "name": "stdout",
     "output_type": "stream",
     "text": [
      "True\n",
      "False\n"
     ]
    }
   ],
   "source": [
    "so1 = \"string operations\"\n",
    "print(so1.endswith(\"operations\"))\n",
    "print(so1.endswith(\"Operations\"))"
   ]
  },
  {
   "cell_type": "raw",
   "id": "3198ed46-d33b-46ee-badd-181ecc030e5f",
   "metadata": {},
   "source": [
    "2. capitalize ():"
   ]
  },
  {
   "cell_type": "code",
   "execution_count": 106,
   "id": "445c6afb-f97c-40f7-8d68-3c3252687e2e",
   "metadata": {},
   "outputs": [
    {
     "name": "stdout",
     "output_type": "stream",
     "text": [
      "String operations\n"
     ]
    }
   ],
   "source": [
    "print(so1.capitalize())"
   ]
  },
  {
   "cell_type": "raw",
   "id": "0f4c8c39-9b0c-4055-9049-b3619d6c24c1",
   "metadata": {},
   "source": [
    "3. replace():"
   ]
  },
  {
   "cell_type": "code",
   "execution_count": 110,
   "id": "bd17f9dc-88f8-4fe2-a734-b67a00cfe167",
   "metadata": {},
   "outputs": [
    {
     "name": "stdout",
     "output_type": "stream",
     "text": [
      "string Operation\n"
     ]
    }
   ],
   "source": [
    "print(so1.replace(\"operations\",\"Operation\"))"
   ]
  },
  {
   "cell_type": "raw",
   "id": "88b92669-323a-44c8-a52d-8b9bab1ea29b",
   "metadata": {},
   "source": [
    "4.find():\n"
   ]
  },
  {
   "cell_type": "code",
   "execution_count": 126,
   "id": "17d02edc-46e4-47e7-8269-cdcc69804343",
   "metadata": {},
   "outputs": [
    {
     "name": "stdout",
     "output_type": "stream",
     "text": [
      "7\n",
      "-1\n",
      "0\n"
     ]
    }
   ],
   "source": [
    "print(so1.find(\"operations\")) # returns the lowest index of the string \n",
    "print(so1.find(\"operas\")) # if no match return -1\n",
    "print(so1.find(\"str\"))"
   ]
  },
  {
   "cell_type": "raw",
   "id": "b5d561f5-26b4-42b1-8663-4818ccdf0b4a",
   "metadata": {},
   "source": [
    "5.count() "
   ]
  },
  {
   "cell_type": "code",
   "execution_count": 136,
   "id": "b85c2d0c-885d-46c7-b41a-e8b3685e7e8c",
   "metadata": {},
   "outputs": [
    {
     "name": "stdout",
     "output_type": "stream",
     "text": [
      "2\n",
      "2\n",
      "4\n",
      "0\n"
     ]
    }
   ],
   "source": [
    "s_cnt = \" Learning string operations in string\"\n",
    "print(s_cnt.count(\"string\"))\n",
    "print(s_cnt.count(\"str\"))\n",
    "print(s_cnt.count(\"in\"))\n",
    "print(s_cnt.count(\"app\"))"
   ]
  },
  {
   "cell_type": "raw",
   "id": "9444a077-1de0-438c-83ec-c23a47c21af9",
   "metadata": {},
   "source": [
    "6.split():"
   ]
  },
  {
   "cell_type": "code",
   "execution_count": 140,
   "id": "4d86c06d-9b1f-47ae-bc6e-60c8e6444de6",
   "metadata": {},
   "outputs": [
    {
     "name": "stdout",
     "output_type": "stream",
     "text": [
      "['Learning', 'string', 'operations', 'in', 'string']\n"
     ]
    }
   ],
   "source": [
    "print(s_cnt.split())  # spliting string into list"
   ]
  },
  {
   "cell_type": "raw",
   "id": "d0e83c21-8313-4da5-b32a-c094bcb46e47",
   "metadata": {},
   "source": [
    "7.startswith():"
   ]
  },
  {
   "cell_type": "code",
   "execution_count": 146,
   "id": "f764cee6-a326-41f1-b37a-0b96f07faaf8",
   "metadata": {},
   "outputs": [
    {
     "name": "stdout",
     "output_type": "stream",
     "text": [
      "True\n",
      "False\n"
     ]
    }
   ],
   "source": [
    "print(s_cnt.startswith(\" Learn\"))\n",
    "print(s_cnt.startswith(\"Learn\"))"
   ]
  },
  {
   "cell_type": "raw",
   "id": "81bb5537-ef23-437a-99b4-ec88143241d4",
   "metadata": {},
   "source": [
    "8.lower() and upper ()"
   ]
  },
  {
   "cell_type": "code",
   "execution_count": 178,
   "id": "f37f4d69-3aeb-468c-b129-9f84b15479b5",
   "metadata": {},
   "outputs": [
    {
     "name": "stdout",
     "output_type": "stream",
     "text": [
      " learning string operations in string\n",
      " LEARNING STRING OPERATIONS IN STRING\n"
     ]
    }
   ],
   "source": [
    "print(s_cnt.lower())\n",
    "print(s_cnt.upper())"
   ]
  },
  {
   "cell_type": "raw",
   "id": "d062eeb5-a54d-48de-9e69-1efa1dfafa8b",
   "metadata": {},
   "source": [
    "9.strip():"
   ]
  },
  {
   "cell_type": "code",
   "execution_count": 160,
   "id": "fd66332c-d083-40f4-a78c-02af98ef3d5e",
   "metadata": {},
   "outputs": [
    {
     "name": "stdout",
     "output_type": "stream",
     "text": [
      "Learning string operations in string\n",
      "learning python\n"
     ]
    }
   ],
   "source": [
    "print(s_cnt.strip())\n",
    "stp = \"    learning python    \"\n",
    "print(stp.strip())"
   ]
  },
  {
   "cell_type": "raw",
   "id": "f2a1b3d8-e620-4995-a920-81771b446419",
   "metadata": {},
   "source": [
    "10.join():"
   ]
  },
  {
   "cell_type": "code",
   "execution_count": 166,
   "id": "4104c671-7d26-411a-921b-36b94c558425",
   "metadata": {},
   "outputs": [
    {
     "name": "stdout",
     "output_type": "stream",
     "text": [
      "apple::banana::cherry\n"
     ]
    }
   ],
   "source": [
    "lt = [\"apple\",\"banana\",\"cherry\"]\n",
    "print(\"::\".join(lt))"
   ]
  },
  {
   "cell_type": "raw",
   "id": "e5d5f83b-8728-4ede-b9d1-5b5ced86733e",
   "metadata": {},
   "source": [
    "11.format"
   ]
  },
  {
   "cell_type": "code",
   "execution_count": 176,
   "id": "9ab5475a-2f1b-42b3-a73e-97bdc3ce1f54",
   "metadata": {},
   "outputs": [
    {
     "name": "stdout",
     "output_type": "stream",
     "text": [
      "Learning python \n",
      "The price of apple is 12.3 dollars\n"
     ]
    }
   ],
   "source": [
    "ft = \"Learning {} \"\n",
    "print(ft.format(\"python\"))\n",
    "ft1 = \"The price of apple is {} dollars\"\n",
    "print(ft1.format(12.3))"
   ]
  },
  {
   "cell_type": "raw",
   "id": "91242004-1060-4a0c-bfbc-f5c4ea3e81a1",
   "metadata": {},
   "source": [
    "UPDATING STRINGS :"
   ]
  },
  {
   "cell_type": "raw",
   "id": "7e9ebc29-9aa6-4996-b2ff-6ab4cfad5a01",
   "metadata": {},
   "source": [
    "UPDATING SINGLE CHARACTER -- USING SLICIING AND CONCATENATION"
   ]
  },
  {
   "cell_type": "code",
   "execution_count": 182,
   "id": "2e42481c-4d33-4ccd-a14c-b3e27ab8bd6a",
   "metadata": {},
   "outputs": [
    {
     "name": "stdout",
     "output_type": "stream",
     "text": [
      "updAting\n"
     ]
    }
   ],
   "source": [
    "u = \"updating\"\n",
    "print(u[0:3] +\"A\"+ u[4:])"
   ]
  },
  {
   "cell_type": "raw",
   "id": "19ef5a65-c311-47a6-a3de-1944514c3c25",
   "metadata": {},
   "source": [
    "UPDATING MULTIPLE CHARACTER -- USING REPLACE FUNC , LIST CONVERSION , SLICING:"
   ]
  },
  {
   "cell_type": "code",
   "execution_count": 196,
   "id": "35d23886-6a0a-42c2-9573-d228d0b52b50",
   "metadata": {},
   "outputs": [
    {
     "name": "stdout",
     "output_type": "stream",
     "text": [
      "UPDATING MULTIPLE CHARACTERS\n",
      "UPDATING multiple CHARACTER\n"
     ]
    }
   ],
   "source": [
    "#REPLACE :\n",
    "u_mul = \"UPDATING MULTIPLE CHARACTER\"\n",
    "print(u_mul.replace(\"CHARACTER\",\"CHARACTERS\"))\n",
    "\n",
    "'''\n",
    "LIST CONVERSION\n",
    "1.convert string --> list\n",
    "2.modify list\n",
    "3.convert list --> string\n",
    "'''\n",
    "lt = list(u_mul)\n",
    "lt[9:17]=\"multiple\"\n",
    "new_lt = ''.join(lt)\n",
    "print(new_lt)"
   ]
  },
  {
   "cell_type": "raw",
   "id": "0a3a6888-226f-4e99-b628-06e5cf577f01",
   "metadata": {},
   "source": [
    "DELETING STRING "
   ]
  },
  {
   "cell_type": "raw",
   "id": "6dc0bb19-b88a-4e3f-b03f-0a0b23175b0b",
   "metadata": {},
   "source": [
    "DELETING SINGLE CHARACTER -- USING SLICING"
   ]
  },
  {
   "cell_type": "code",
   "execution_count": 198,
   "id": "6c8367c6-1325-4716-bbb2-9b137aa90c54",
   "metadata": {},
   "outputs": [
    {
     "name": "stdout",
     "output_type": "stream",
     "text": [
      "DELETINGSTRING\n"
     ]
    }
   ],
   "source": [
    "d = \"DELETING STRING\"\n",
    "print(d[:8]+ d[9:])\n"
   ]
  },
  {
   "cell_type": "raw",
   "id": "dafb20be-a290-4270-b197-bc222b219214",
   "metadata": {},
   "source": [
    "DELETING MULTIPLE CHARACTER -- USING REPLACE AND DEL \n"
   ]
  },
  {
   "cell_type": "code",
   "execution_count": 214,
   "id": "5a3c0ce7-eeb0-4ddb-b2eb-c43f88d9fd5a",
   "metadata": {},
   "outputs": [
    {
     "name": "stdout",
     "output_type": "stream",
     "text": [
      "DELETING  STRING , DELETING  STRING \n"
     ]
    }
   ],
   "source": [
    "#REPLACE:\n",
    "dm = \"DELETING AN STRING , DELETING AN STRING \"\n",
    "print(dm.replace(\"AN\",\"\"))\n",
    "del dm\n",
    "#print(dm)\n"
   ]
  },
  {
   "cell_type": "code",
   "execution_count": null,
   "id": "a6d432f8-a702-448f-a50c-a907e6eaa12f",
   "metadata": {},
   "outputs": [],
   "source": []
  }
 ],
 "metadata": {
  "kernelspec": {
   "display_name": "Python [conda env:base] *",
   "language": "python",
   "name": "conda-base-py"
  },
  "language_info": {
   "codemirror_mode": {
    "name": "ipython",
    "version": 3
   },
   "file_extension": ".py",
   "mimetype": "text/x-python",
   "name": "python",
   "nbconvert_exporter": "python",
   "pygments_lexer": "ipython3",
   "version": "3.12.7"
  }
 },
 "nbformat": 4,
 "nbformat_minor": 5
}
