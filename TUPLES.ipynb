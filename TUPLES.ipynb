{
 "cells": [
  {
   "cell_type": "markdown",
   "id": "b9a2dccc-75a4-4c4f-b25b-b60e77061dab",
   "metadata": {},
   "source": [
    "# TUPLE:\n",
    "\n",
    "* Ordered collection of items and immutable\n",
    "* Heterogenous\n",
    "* Hashable -- Tuples are Immutable , they can be used as keys in dicts or elements in sets , provided all their contents also hashable."
   ]
  },
  {
   "cell_type": "code",
   "execution_count": 3,
   "id": "e06ab915-ce13-460c-b8fc-dfcffc391701",
   "metadata": {},
   "outputs": [],
   "source": [
    "#CREATING TUPLES"
   ]
  },
  {
   "cell_type": "code",
   "execution_count": 21,
   "id": "e8dd9c1d-b1f0-4f1c-b409-acccc0980b9e",
   "metadata": {},
   "outputs": [
    {
     "name": "stdout",
     "output_type": "stream",
     "text": [
      "()\n",
      "(1, 'Hi', 2.4, True)\n",
      "(12, 3, 4)\n",
      "(10,)\n",
      "((1, 2), 'abs', (4, 5))\n"
     ]
    }
   ],
   "source": [
    "#EMPTY TUPLE\n",
    "emp_tup =()\n",
    "print(emp_tup)\n",
    "\n",
    "# WITH ELEMENTS\n",
    "tup = (1,\"Hi\",2.4,True)\n",
    "print(tup)\n",
    "\n",
    "#WITHOUT PARANTHESIS ()\n",
    "tup1 = 12,3,4\n",
    "print(tup1)\n",
    "\n",
    "#SINGLE ELEMENT \n",
    "tup2 = (10,)         # COMMA MUSTTTTT\n",
    "print(tup2)\n",
    "\n",
    "#NESTED TUPLES\n",
    "tup3 = ((1,2),\"abs\",(4,5))\n",
    "print(tup3)"
   ]
  },
  {
   "cell_type": "markdown",
   "id": "17d3b194-faf6-4d70-a612-4c54ed87ca64",
   "metadata": {},
   "source": [
    "ACCESSING TUPLE DATA:"
   ]
  },
  {
   "cell_type": "code",
   "execution_count": 28,
   "id": "6f7a8570-0abb-4942-a567-b451f7833e2c",
   "metadata": {},
   "outputs": [
    {
     "name": "stdout",
     "output_type": "stream",
     "text": [
      "10\n"
     ]
    }
   ],
   "source": [
    "# 1. INDEXING :\n",
    "\n",
    "t1 = (10,20,3,40)\n",
    "print(t1[0])"
   ]
  },
  {
   "cell_type": "code",
   "execution_count": 30,
   "id": "3dd5887b-63c3-46e4-a476-a6e9ec944978",
   "metadata": {},
   "outputs": [
    {
     "name": "stdout",
     "output_type": "stream",
     "text": [
      "(20, 3)\n"
     ]
    }
   ],
   "source": [
    "#2. SLICING:\n",
    "\n",
    "print ( t1[1:3])   # indexing -- 0 to n-1"
   ]
  },
  {
   "cell_type": "code",
   "execution_count": 32,
   "id": "7b58b626-89a1-4a7a-91f8-1d407f4b1498",
   "metadata": {},
   "outputs": [
    {
     "name": "stdout",
     "output_type": "stream",
     "text": [
      "10\n",
      "20\n",
      "3\n",
      "40\n"
     ]
    }
   ],
   "source": [
    "# 3. ITERATING:\n",
    "\n",
    "for i in t1:\n",
    "    print(i)"
   ]
  },
  {
   "cell_type": "markdown",
   "id": "b3a22362-1e9a-407a-9db3-e3a7446bf95b",
   "metadata": {},
   "source": [
    "# METHODS:\n"
   ]
  },
  {
   "cell_type": "code",
   "execution_count": 35,
   "id": "c7aeddf9-26cf-4d21-9165-ba2d985a7796",
   "metadata": {},
   "outputs": [
    {
     "name": "stdout",
     "output_type": "stream",
     "text": [
      "3\n"
     ]
    }
   ],
   "source": [
    "# 1. count(item):\n",
    "\n",
    "t_cnt = (1,2,2,3,4,4,5,4)\n",
    "print(t_cnt.count(4))"
   ]
  },
  {
   "cell_type": "markdown",
   "id": "2fe3ef50-8fb3-49c5-960e-9192733c26bb",
   "metadata": {},
   "source": [
    " 2. INDEX(item)\n",
    "    * find index of specified item , if not raises VALUE ERROR"
   ]
  },
  {
   "cell_type": "code",
   "execution_count": 48,
   "id": "4a8a049f-e1e9-4f57-a210-961e6be3a698",
   "metadata": {},
   "outputs": [
    {
     "name": "stdout",
     "output_type": "stream",
     "text": [
      "4\n"
     ]
    },
    {
     "ename": "IndexError",
     "evalue": "tuple index out of range",
     "output_type": "error",
     "traceback": [
      "\u001b[1;31m---------------------------------------------------------------------------\u001b[0m",
      "\u001b[1;31mIndexError\u001b[0m                                Traceback (most recent call last)",
      "Cell \u001b[1;32mIn[48], line 3\u001b[0m\n\u001b[0;32m      1\u001b[0m t_idx \u001b[38;5;241m=\u001b[39m (\u001b[38;5;241m1\u001b[39m,\u001b[38;5;241m2\u001b[39m,\u001b[38;5;241m2\u001b[39m,\u001b[38;5;241m3\u001b[39m,\u001b[38;5;241m4\u001b[39m,\u001b[38;5;241m4\u001b[39m,\u001b[38;5;241m5\u001b[39m,\u001b[38;5;241m4\u001b[39m)\n\u001b[0;32m      2\u001b[0m \u001b[38;5;28mprint\u001b[39m(t_idx[\u001b[38;5;241m4\u001b[39m])\n\u001b[1;32m----> 3\u001b[0m \u001b[38;5;28mprint\u001b[39m(t_idx[\u001b[38;5;241m9\u001b[39m])\n",
      "\u001b[1;31mIndexError\u001b[0m: tuple index out of range"
     ]
    }
   ],
   "source": [
    "t_idx = (1,2,2,3,4,4,5,4)\n",
    "print(t_idx[4])\n",
    "print(t_idx[9])"
   ]
  },
  {
   "cell_type": "code",
   "execution_count": null,
   "id": "e01ff617-0a2c-43d7-8777-5fe051402e3f",
   "metadata": {},
   "outputs": [],
   "source": []
  }
 ],
 "metadata": {
  "kernelspec": {
   "display_name": "Python [conda env:base] *",
   "language": "python",
   "name": "conda-base-py"
  },
  "language_info": {
   "codemirror_mode": {
    "name": "ipython",
    "version": 3
   },
   "file_extension": ".py",
   "mimetype": "text/x-python",
   "name": "python",
   "nbconvert_exporter": "python",
   "pygments_lexer": "ipython3",
   "version": "3.12.7"
  }
 },
 "nbformat": 4,
 "nbformat_minor": 5
}
